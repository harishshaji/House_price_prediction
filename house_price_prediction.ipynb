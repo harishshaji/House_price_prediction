{
  "nbformat": 4,
  "nbformat_minor": 0,
  "metadata": {
    "colab": {
      "provenance": [],
      "authorship_tag": "ABX9TyPurmI6NkEn+fUCSwowyOh4",
      "include_colab_link": true
    },
    "kernelspec": {
      "name": "python3",
      "display_name": "Python 3"
    },
    "language_info": {
      "name": "python"
    }
  },
  "cells": [
    {
      "cell_type": "markdown",
      "metadata": {
        "id": "view-in-github",
        "colab_type": "text"
      },
      "source": [
        "<a href=\"https://colab.research.google.com/github/harishshaji/House_price_prediction/blob/main/house_price_prediction.ipynb\" target=\"_parent\"><img src=\"https://colab.research.google.com/assets/colab-badge.svg\" alt=\"Open In Colab\"/></a>"
      ]
    },
    {
      "cell_type": "code",
      "source": [],
      "metadata": {
        "id": "0ItHJqVnNEPL"
      },
      "execution_count": null,
      "outputs": []
    },
    {
      "cell_type": "code",
      "execution_count": 1,
      "metadata": {
        "id": "fd18kE4PJVb3"
      },
      "outputs": [],
      "source": [
        "import pandas as pd\n",
        "\n"
      ]
    },
    {
      "cell_type": "code",
      "source": [
        "df=pd.read_csv('/content/houseprice.csv',usecols=[\"SalePrice\", \"MSSubClass\", \"MSZoning\", \"LotFrontage\", \"LotArea\",\n",
        "                                         \"Street\", \"YearBuilt\", \"LotShape\", \"1stFlrSF\", \"2ndFlrSF\"]).dropna()\n",
        "\n",
        "                                         "
      ],
      "metadata": {
        "id": "GQsCgtPQKAiB"
      },
      "execution_count": 2,
      "outputs": []
    },
    {
      "cell_type": "code",
      "source": [
        "df=pd.DataFrame(df)\n"
      ],
      "metadata": {
        "id": "T1vKDfLENLsm"
      },
      "execution_count": 3,
      "outputs": []
    },
    {
      "cell_type": "markdown",
      "source": [],
      "metadata": {
        "id": "-biJk0vaNAZi"
      }
    },
    {
      "cell_type": "code",
      "source": [
        "#1\n",
        "#lst = [0,60, 'RL', 65, 8450, 'Pave', 2003, 'Reg', 856, 854]\n",
        "#df = df.append(pd.DataFrame([lst], \n",
        "#     columns=[\"SalePrice\", \"MSSubClass\", \"MSZoning\", \"LotFrontage\", \"LotArea\",\"Street\", \"YearBuilt\", \"LotShape\", \"1stFlrSF\", \"2ndFlrSF\"]),\n",
        "#     ignore_index=True)\n",
        "df.tail()\n"
      ],
      "metadata": {
        "colab": {
          "base_uri": "https://localhost:8080/",
          "height": 206
        },
        "id": "BG7mU3vOLTng",
        "outputId": "93392307-5dea-47de-c79b-a6d4163cbb7b"
      },
      "execution_count": 4,
      "outputs": [
        {
          "output_type": "execute_result",
          "data": {
            "text/plain": [
              "      MSSubClass MSZoning  LotFrontage  LotArea Street LotShape  YearBuilt  \\\n",
              "1455          60       RL         62.0     7917   Pave      Reg       1999   \n",
              "1456          20       RL         85.0    13175   Pave      Reg       1978   \n",
              "1457          70       RL         66.0     9042   Pave      Reg       1941   \n",
              "1458          20       RL         68.0     9717   Pave      Reg       1950   \n",
              "1459          20       RL         75.0     9937   Pave      Reg       1965   \n",
              "\n",
              "      1stFlrSF  2ndFlrSF  SalePrice  \n",
              "1455       953       694     175000  \n",
              "1456      2073         0     210000  \n",
              "1457      1188      1152     266500  \n",
              "1458      1078         0     142125  \n",
              "1459      1256         0     147500  "
            ],
            "text/html": [
              "\n",
              "  <div id=\"df-d1ceb764-5f91-4c77-98de-4c4134cd9a10\">\n",
              "    <div class=\"colab-df-container\">\n",
              "      <div>\n",
              "<style scoped>\n",
              "    .dataframe tbody tr th:only-of-type {\n",
              "        vertical-align: middle;\n",
              "    }\n",
              "\n",
              "    .dataframe tbody tr th {\n",
              "        vertical-align: top;\n",
              "    }\n",
              "\n",
              "    .dataframe thead th {\n",
              "        text-align: right;\n",
              "    }\n",
              "</style>\n",
              "<table border=\"1\" class=\"dataframe\">\n",
              "  <thead>\n",
              "    <tr style=\"text-align: right;\">\n",
              "      <th></th>\n",
              "      <th>MSSubClass</th>\n",
              "      <th>MSZoning</th>\n",
              "      <th>LotFrontage</th>\n",
              "      <th>LotArea</th>\n",
              "      <th>Street</th>\n",
              "      <th>LotShape</th>\n",
              "      <th>YearBuilt</th>\n",
              "      <th>1stFlrSF</th>\n",
              "      <th>2ndFlrSF</th>\n",
              "      <th>SalePrice</th>\n",
              "    </tr>\n",
              "  </thead>\n",
              "  <tbody>\n",
              "    <tr>\n",
              "      <th>1455</th>\n",
              "      <td>60</td>\n",
              "      <td>RL</td>\n",
              "      <td>62.0</td>\n",
              "      <td>7917</td>\n",
              "      <td>Pave</td>\n",
              "      <td>Reg</td>\n",
              "      <td>1999</td>\n",
              "      <td>953</td>\n",
              "      <td>694</td>\n",
              "      <td>175000</td>\n",
              "    </tr>\n",
              "    <tr>\n",
              "      <th>1456</th>\n",
              "      <td>20</td>\n",
              "      <td>RL</td>\n",
              "      <td>85.0</td>\n",
              "      <td>13175</td>\n",
              "      <td>Pave</td>\n",
              "      <td>Reg</td>\n",
              "      <td>1978</td>\n",
              "      <td>2073</td>\n",
              "      <td>0</td>\n",
              "      <td>210000</td>\n",
              "    </tr>\n",
              "    <tr>\n",
              "      <th>1457</th>\n",
              "      <td>70</td>\n",
              "      <td>RL</td>\n",
              "      <td>66.0</td>\n",
              "      <td>9042</td>\n",
              "      <td>Pave</td>\n",
              "      <td>Reg</td>\n",
              "      <td>1941</td>\n",
              "      <td>1188</td>\n",
              "      <td>1152</td>\n",
              "      <td>266500</td>\n",
              "    </tr>\n",
              "    <tr>\n",
              "      <th>1458</th>\n",
              "      <td>20</td>\n",
              "      <td>RL</td>\n",
              "      <td>68.0</td>\n",
              "      <td>9717</td>\n",
              "      <td>Pave</td>\n",
              "      <td>Reg</td>\n",
              "      <td>1950</td>\n",
              "      <td>1078</td>\n",
              "      <td>0</td>\n",
              "      <td>142125</td>\n",
              "    </tr>\n",
              "    <tr>\n",
              "      <th>1459</th>\n",
              "      <td>20</td>\n",
              "      <td>RL</td>\n",
              "      <td>75.0</td>\n",
              "      <td>9937</td>\n",
              "      <td>Pave</td>\n",
              "      <td>Reg</td>\n",
              "      <td>1965</td>\n",
              "      <td>1256</td>\n",
              "      <td>0</td>\n",
              "      <td>147500</td>\n",
              "    </tr>\n",
              "  </tbody>\n",
              "</table>\n",
              "</div>\n",
              "      <button class=\"colab-df-convert\" onclick=\"convertToInteractive('df-d1ceb764-5f91-4c77-98de-4c4134cd9a10')\"\n",
              "              title=\"Convert this dataframe to an interactive table.\"\n",
              "              style=\"display:none;\">\n",
              "        \n",
              "  <svg xmlns=\"http://www.w3.org/2000/svg\" height=\"24px\"viewBox=\"0 0 24 24\"\n",
              "       width=\"24px\">\n",
              "    <path d=\"M0 0h24v24H0V0z\" fill=\"none\"/>\n",
              "    <path d=\"M18.56 5.44l.94 2.06.94-2.06 2.06-.94-2.06-.94-.94-2.06-.94 2.06-2.06.94zm-11 1L8.5 8.5l.94-2.06 2.06-.94-2.06-.94L8.5 2.5l-.94 2.06-2.06.94zm10 10l.94 2.06.94-2.06 2.06-.94-2.06-.94-.94-2.06-.94 2.06-2.06.94z\"/><path d=\"M17.41 7.96l-1.37-1.37c-.4-.4-.92-.59-1.43-.59-.52 0-1.04.2-1.43.59L10.3 9.45l-7.72 7.72c-.78.78-.78 2.05 0 2.83L4 21.41c.39.39.9.59 1.41.59.51 0 1.02-.2 1.41-.59l7.78-7.78 2.81-2.81c.8-.78.8-2.07 0-2.86zM5.41 20L4 18.59l7.72-7.72 1.47 1.35L5.41 20z\"/>\n",
              "  </svg>\n",
              "      </button>\n",
              "      \n",
              "  <style>\n",
              "    .colab-df-container {\n",
              "      display:flex;\n",
              "      flex-wrap:wrap;\n",
              "      gap: 12px;\n",
              "    }\n",
              "\n",
              "    .colab-df-convert {\n",
              "      background-color: #E8F0FE;\n",
              "      border: none;\n",
              "      border-radius: 50%;\n",
              "      cursor: pointer;\n",
              "      display: none;\n",
              "      fill: #1967D2;\n",
              "      height: 32px;\n",
              "      padding: 0 0 0 0;\n",
              "      width: 32px;\n",
              "    }\n",
              "\n",
              "    .colab-df-convert:hover {\n",
              "      background-color: #E2EBFA;\n",
              "      box-shadow: 0px 1px 2px rgba(60, 64, 67, 0.3), 0px 1px 3px 1px rgba(60, 64, 67, 0.15);\n",
              "      fill: #174EA6;\n",
              "    }\n",
              "\n",
              "    [theme=dark] .colab-df-convert {\n",
              "      background-color: #3B4455;\n",
              "      fill: #D2E3FC;\n",
              "    }\n",
              "\n",
              "    [theme=dark] .colab-df-convert:hover {\n",
              "      background-color: #434B5C;\n",
              "      box-shadow: 0px 1px 3px 1px rgba(0, 0, 0, 0.15);\n",
              "      filter: drop-shadow(0px 1px 2px rgba(0, 0, 0, 0.3));\n",
              "      fill: #FFFFFF;\n",
              "    }\n",
              "  </style>\n",
              "\n",
              "      <script>\n",
              "        const buttonEl =\n",
              "          document.querySelector('#df-d1ceb764-5f91-4c77-98de-4c4134cd9a10 button.colab-df-convert');\n",
              "        buttonEl.style.display =\n",
              "          google.colab.kernel.accessAllowed ? 'block' : 'none';\n",
              "\n",
              "        async function convertToInteractive(key) {\n",
              "          const element = document.querySelector('#df-d1ceb764-5f91-4c77-98de-4c4134cd9a10');\n",
              "          const dataTable =\n",
              "            await google.colab.kernel.invokeFunction('convertToInteractive',\n",
              "                                                     [key], {});\n",
              "          if (!dataTable) return;\n",
              "\n",
              "          const docLinkHtml = 'Like what you see? Visit the ' +\n",
              "            '<a target=\"_blank\" href=https://colab.research.google.com/notebooks/data_table.ipynb>data table notebook</a>'\n",
              "            + ' to learn more about interactive tables.';\n",
              "          element.innerHTML = '';\n",
              "          dataTable['output_type'] = 'display_data';\n",
              "          await google.colab.output.renderOutput(dataTable, element);\n",
              "          const docLink = document.createElement('div');\n",
              "          docLink.innerHTML = docLinkHtml;\n",
              "          element.appendChild(docLink);\n",
              "        }\n",
              "      </script>\n",
              "    </div>\n",
              "  </div>\n",
              "  "
            ]
          },
          "metadata": {},
          "execution_count": 4
        }
      ]
    },
    {
      "cell_type": "code",
      "source": [
        "for i in df.columns:\n",
        "   print(\"Column name {} and unique values are {}\".format(i,len(df[i].unique())))\n",
        "\n",
        "    "
      ],
      "metadata": {
        "colab": {
          "base_uri": "https://localhost:8080/"
        },
        "id": "p_PtJgU3Lf2G",
        "outputId": "fe5e9df3-4c3c-4f65-99cc-48ae5b31981d"
      },
      "execution_count": 5,
      "outputs": [
        {
          "output_type": "stream",
          "name": "stdout",
          "text": [
            "Column name MSSubClass and unique values are 15\n",
            "Column name MSZoning and unique values are 5\n",
            "Column name LotFrontage and unique values are 110\n",
            "Column name LotArea and unique values are 869\n",
            "Column name Street and unique values are 2\n",
            "Column name LotShape and unique values are 4\n",
            "Column name YearBuilt and unique values are 112\n",
            "Column name 1stFlrSF and unique values are 678\n",
            "Column name 2ndFlrSF and unique values are 368\n",
            "Column name SalePrice and unique values are 597\n"
          ]
        }
      ]
    },
    {
      "cell_type": "code",
      "source": [
        "import datetime\n",
        "datetime.datetime.now().year\n",
        "df['Total Years']=datetime.datetime.now().year-df['YearBuilt']\n",
        "df.drop(\"YearBuilt\",axis=1,inplace=True)\n",
        "df.columns"
      ],
      "metadata": {
        "colab": {
          "base_uri": "https://localhost:8080/"
        },
        "id": "_aJa-5WpLnV0",
        "outputId": "8cdf1290-6ff2-4076-e93d-a680b6eaab63"
      },
      "execution_count": 6,
      "outputs": [
        {
          "output_type": "execute_result",
          "data": {
            "text/plain": [
              "Index(['MSSubClass', 'MSZoning', 'LotFrontage', 'LotArea', 'Street',\n",
              "       'LotShape', '1stFlrSF', '2ndFlrSF', 'SalePrice', 'Total Years'],\n",
              "      dtype='object')"
            ]
          },
          "metadata": {},
          "execution_count": 6
        }
      ]
    },
    {
      "cell_type": "code",
      "source": [],
      "metadata": {
        "id": "Y4I-pAd7hkg_"
      },
      "execution_count": null,
      "outputs": []
    },
    {
      "cell_type": "code",
      "source": [
        "cat_features=[\"MSSubClass\", \"MSZoning\", \"Street\", \"LotShape\"]\n",
        "out_feature=\"SalePrice\"\n"
      ],
      "metadata": {
        "id": "WAOODcj9L1Je"
      },
      "execution_count": 7,
      "outputs": []
    },
    {
      "cell_type": "code",
      "source": [
        "#from sklearn.preprocessing import LabelEncoder\n",
        "#lbl_encoders={}\n",
        "#lbl_encoders[\"MSSubClass\"]=LabelEncoder()\n",
        "#lbl_encoders[\"MSSubClass\"].fit_transform(df[\"MSSubClass\"])"
      ],
      "metadata": {
        "colab": {
          "base_uri": "https://localhost:8080/"
        },
        "id": "HFB4s69vL8d-",
        "outputId": "5fb40b0b-c1cd-4b0e-ac0f-5a83ac2d32a5"
      },
      "execution_count": null,
      "outputs": [
        {
          "output_type": "execute_result",
          "data": {
            "text/plain": [
              "array([5, 0, 5, ..., 6, 0, 0])"
            ]
          },
          "metadata": {},
          "execution_count": 6
        }
      ]
    },
    {
      "cell_type": "code",
      "source": [
        "#lbl_encoders"
      ],
      "metadata": {
        "id": "hK0vDMITMGMZ"
      },
      "execution_count": 9,
      "outputs": []
    },
    {
      "cell_type": "code",
      "source": [
        "from sklearn.preprocessing import LabelEncoder\n",
        "lbl_encoders={}\n",
        "for feature in cat_features:\n",
        "    lbl_encoders[feature]=LabelEncoder()\n",
        "    df[feature]=lbl_encoders[feature].fit_transform(df[feature])\n"
      ],
      "metadata": {
        "id": "rPtra7tnMGVj"
      },
      "execution_count": 10,
      "outputs": []
    },
    {
      "cell_type": "code",
      "source": [
        "df"
      ],
      "metadata": {
        "colab": {
          "base_uri": "https://localhost:8080/",
          "height": 424
        },
        "id": "nHhbhVQLMGYA",
        "outputId": "0ecd0d1c-4d6a-4387-afe3-3b5fbacaaf5f"
      },
      "execution_count": 11,
      "outputs": [
        {
          "output_type": "execute_result",
          "data": {
            "text/plain": [
              "      MSSubClass  MSZoning  LotFrontage  LotArea  Street  LotShape  1stFlrSF  \\\n",
              "0              5         3         65.0     8450       1         3       856   \n",
              "1              0         3         80.0     9600       1         3      1262   \n",
              "2              5         3         68.0    11250       1         0       920   \n",
              "3              6         3         60.0     9550       1         0       961   \n",
              "4              5         3         84.0    14260       1         0      1145   \n",
              "...          ...       ...          ...      ...     ...       ...       ...   \n",
              "1455           5         3         62.0     7917       1         3       953   \n",
              "1456           0         3         85.0    13175       1         3      2073   \n",
              "1457           6         3         66.0     9042       1         3      1188   \n",
              "1458           0         3         68.0     9717       1         3      1078   \n",
              "1459           0         3         75.0     9937       1         3      1256   \n",
              "\n",
              "      2ndFlrSF  SalePrice  Total Years  \n",
              "0          854     208500           19  \n",
              "1            0     181500           46  \n",
              "2          866     223500           21  \n",
              "3          756     140000          107  \n",
              "4         1053     250000           22  \n",
              "...        ...        ...          ...  \n",
              "1455       694     175000           23  \n",
              "1456         0     210000           44  \n",
              "1457      1152     266500           81  \n",
              "1458         0     142125           72  \n",
              "1459         0     147500           57  \n",
              "\n",
              "[1201 rows x 10 columns]"
            ],
            "text/html": [
              "\n",
              "  <div id=\"df-9667cf6b-0cb7-4d4b-8f69-50770a87e33f\">\n",
              "    <div class=\"colab-df-container\">\n",
              "      <div>\n",
              "<style scoped>\n",
              "    .dataframe tbody tr th:only-of-type {\n",
              "        vertical-align: middle;\n",
              "    }\n",
              "\n",
              "    .dataframe tbody tr th {\n",
              "        vertical-align: top;\n",
              "    }\n",
              "\n",
              "    .dataframe thead th {\n",
              "        text-align: right;\n",
              "    }\n",
              "</style>\n",
              "<table border=\"1\" class=\"dataframe\">\n",
              "  <thead>\n",
              "    <tr style=\"text-align: right;\">\n",
              "      <th></th>\n",
              "      <th>MSSubClass</th>\n",
              "      <th>MSZoning</th>\n",
              "      <th>LotFrontage</th>\n",
              "      <th>LotArea</th>\n",
              "      <th>Street</th>\n",
              "      <th>LotShape</th>\n",
              "      <th>1stFlrSF</th>\n",
              "      <th>2ndFlrSF</th>\n",
              "      <th>SalePrice</th>\n",
              "      <th>Total Years</th>\n",
              "    </tr>\n",
              "  </thead>\n",
              "  <tbody>\n",
              "    <tr>\n",
              "      <th>0</th>\n",
              "      <td>5</td>\n",
              "      <td>3</td>\n",
              "      <td>65.0</td>\n",
              "      <td>8450</td>\n",
              "      <td>1</td>\n",
              "      <td>3</td>\n",
              "      <td>856</td>\n",
              "      <td>854</td>\n",
              "      <td>208500</td>\n",
              "      <td>19</td>\n",
              "    </tr>\n",
              "    <tr>\n",
              "      <th>1</th>\n",
              "      <td>0</td>\n",
              "      <td>3</td>\n",
              "      <td>80.0</td>\n",
              "      <td>9600</td>\n",
              "      <td>1</td>\n",
              "      <td>3</td>\n",
              "      <td>1262</td>\n",
              "      <td>0</td>\n",
              "      <td>181500</td>\n",
              "      <td>46</td>\n",
              "    </tr>\n",
              "    <tr>\n",
              "      <th>2</th>\n",
              "      <td>5</td>\n",
              "      <td>3</td>\n",
              "      <td>68.0</td>\n",
              "      <td>11250</td>\n",
              "      <td>1</td>\n",
              "      <td>0</td>\n",
              "      <td>920</td>\n",
              "      <td>866</td>\n",
              "      <td>223500</td>\n",
              "      <td>21</td>\n",
              "    </tr>\n",
              "    <tr>\n",
              "      <th>3</th>\n",
              "      <td>6</td>\n",
              "      <td>3</td>\n",
              "      <td>60.0</td>\n",
              "      <td>9550</td>\n",
              "      <td>1</td>\n",
              "      <td>0</td>\n",
              "      <td>961</td>\n",
              "      <td>756</td>\n",
              "      <td>140000</td>\n",
              "      <td>107</td>\n",
              "    </tr>\n",
              "    <tr>\n",
              "      <th>4</th>\n",
              "      <td>5</td>\n",
              "      <td>3</td>\n",
              "      <td>84.0</td>\n",
              "      <td>14260</td>\n",
              "      <td>1</td>\n",
              "      <td>0</td>\n",
              "      <td>1145</td>\n",
              "      <td>1053</td>\n",
              "      <td>250000</td>\n",
              "      <td>22</td>\n",
              "    </tr>\n",
              "    <tr>\n",
              "      <th>...</th>\n",
              "      <td>...</td>\n",
              "      <td>...</td>\n",
              "      <td>...</td>\n",
              "      <td>...</td>\n",
              "      <td>...</td>\n",
              "      <td>...</td>\n",
              "      <td>...</td>\n",
              "      <td>...</td>\n",
              "      <td>...</td>\n",
              "      <td>...</td>\n",
              "    </tr>\n",
              "    <tr>\n",
              "      <th>1455</th>\n",
              "      <td>5</td>\n",
              "      <td>3</td>\n",
              "      <td>62.0</td>\n",
              "      <td>7917</td>\n",
              "      <td>1</td>\n",
              "      <td>3</td>\n",
              "      <td>953</td>\n",
              "      <td>694</td>\n",
              "      <td>175000</td>\n",
              "      <td>23</td>\n",
              "    </tr>\n",
              "    <tr>\n",
              "      <th>1456</th>\n",
              "      <td>0</td>\n",
              "      <td>3</td>\n",
              "      <td>85.0</td>\n",
              "      <td>13175</td>\n",
              "      <td>1</td>\n",
              "      <td>3</td>\n",
              "      <td>2073</td>\n",
              "      <td>0</td>\n",
              "      <td>210000</td>\n",
              "      <td>44</td>\n",
              "    </tr>\n",
              "    <tr>\n",
              "      <th>1457</th>\n",
              "      <td>6</td>\n",
              "      <td>3</td>\n",
              "      <td>66.0</td>\n",
              "      <td>9042</td>\n",
              "      <td>1</td>\n",
              "      <td>3</td>\n",
              "      <td>1188</td>\n",
              "      <td>1152</td>\n",
              "      <td>266500</td>\n",
              "      <td>81</td>\n",
              "    </tr>\n",
              "    <tr>\n",
              "      <th>1458</th>\n",
              "      <td>0</td>\n",
              "      <td>3</td>\n",
              "      <td>68.0</td>\n",
              "      <td>9717</td>\n",
              "      <td>1</td>\n",
              "      <td>3</td>\n",
              "      <td>1078</td>\n",
              "      <td>0</td>\n",
              "      <td>142125</td>\n",
              "      <td>72</td>\n",
              "    </tr>\n",
              "    <tr>\n",
              "      <th>1459</th>\n",
              "      <td>0</td>\n",
              "      <td>3</td>\n",
              "      <td>75.0</td>\n",
              "      <td>9937</td>\n",
              "      <td>1</td>\n",
              "      <td>3</td>\n",
              "      <td>1256</td>\n",
              "      <td>0</td>\n",
              "      <td>147500</td>\n",
              "      <td>57</td>\n",
              "    </tr>\n",
              "  </tbody>\n",
              "</table>\n",
              "<p>1201 rows × 10 columns</p>\n",
              "</div>\n",
              "      <button class=\"colab-df-convert\" onclick=\"convertToInteractive('df-9667cf6b-0cb7-4d4b-8f69-50770a87e33f')\"\n",
              "              title=\"Convert this dataframe to an interactive table.\"\n",
              "              style=\"display:none;\">\n",
              "        \n",
              "  <svg xmlns=\"http://www.w3.org/2000/svg\" height=\"24px\"viewBox=\"0 0 24 24\"\n",
              "       width=\"24px\">\n",
              "    <path d=\"M0 0h24v24H0V0z\" fill=\"none\"/>\n",
              "    <path d=\"M18.56 5.44l.94 2.06.94-2.06 2.06-.94-2.06-.94-.94-2.06-.94 2.06-2.06.94zm-11 1L8.5 8.5l.94-2.06 2.06-.94-2.06-.94L8.5 2.5l-.94 2.06-2.06.94zm10 10l.94 2.06.94-2.06 2.06-.94-2.06-.94-.94-2.06-.94 2.06-2.06.94z\"/><path d=\"M17.41 7.96l-1.37-1.37c-.4-.4-.92-.59-1.43-.59-.52 0-1.04.2-1.43.59L10.3 9.45l-7.72 7.72c-.78.78-.78 2.05 0 2.83L4 21.41c.39.39.9.59 1.41.59.51 0 1.02-.2 1.41-.59l7.78-7.78 2.81-2.81c.8-.78.8-2.07 0-2.86zM5.41 20L4 18.59l7.72-7.72 1.47 1.35L5.41 20z\"/>\n",
              "  </svg>\n",
              "      </button>\n",
              "      \n",
              "  <style>\n",
              "    .colab-df-container {\n",
              "      display:flex;\n",
              "      flex-wrap:wrap;\n",
              "      gap: 12px;\n",
              "    }\n",
              "\n",
              "    .colab-df-convert {\n",
              "      background-color: #E8F0FE;\n",
              "      border: none;\n",
              "      border-radius: 50%;\n",
              "      cursor: pointer;\n",
              "      display: none;\n",
              "      fill: #1967D2;\n",
              "      height: 32px;\n",
              "      padding: 0 0 0 0;\n",
              "      width: 32px;\n",
              "    }\n",
              "\n",
              "    .colab-df-convert:hover {\n",
              "      background-color: #E2EBFA;\n",
              "      box-shadow: 0px 1px 2px rgba(60, 64, 67, 0.3), 0px 1px 3px 1px rgba(60, 64, 67, 0.15);\n",
              "      fill: #174EA6;\n",
              "    }\n",
              "\n",
              "    [theme=dark] .colab-df-convert {\n",
              "      background-color: #3B4455;\n",
              "      fill: #D2E3FC;\n",
              "    }\n",
              "\n",
              "    [theme=dark] .colab-df-convert:hover {\n",
              "      background-color: #434B5C;\n",
              "      box-shadow: 0px 1px 3px 1px rgba(0, 0, 0, 0.15);\n",
              "      filter: drop-shadow(0px 1px 2px rgba(0, 0, 0, 0.3));\n",
              "      fill: #FFFFFF;\n",
              "    }\n",
              "  </style>\n",
              "\n",
              "      <script>\n",
              "        const buttonEl =\n",
              "          document.querySelector('#df-9667cf6b-0cb7-4d4b-8f69-50770a87e33f button.colab-df-convert');\n",
              "        buttonEl.style.display =\n",
              "          google.colab.kernel.accessAllowed ? 'block' : 'none';\n",
              "\n",
              "        async function convertToInteractive(key) {\n",
              "          const element = document.querySelector('#df-9667cf6b-0cb7-4d4b-8f69-50770a87e33f');\n",
              "          const dataTable =\n",
              "            await google.colab.kernel.invokeFunction('convertToInteractive',\n",
              "                                                     [key], {});\n",
              "          if (!dataTable) return;\n",
              "\n",
              "          const docLinkHtml = 'Like what you see? Visit the ' +\n",
              "            '<a target=\"_blank\" href=https://colab.research.google.com/notebooks/data_table.ipynb>data table notebook</a>'\n",
              "            + ' to learn more about interactive tables.';\n",
              "          element.innerHTML = '';\n",
              "          dataTable['output_type'] = 'display_data';\n",
              "          await google.colab.output.renderOutput(dataTable, element);\n",
              "          const docLink = document.createElement('div');\n",
              "          docLink.innerHTML = docLinkHtml;\n",
              "          element.appendChild(docLink);\n",
              "        }\n",
              "      </script>\n",
              "    </div>\n",
              "  </div>\n",
              "  "
            ]
          },
          "metadata": {},
          "execution_count": 11
        }
      ]
    },
    {
      "cell_type": "code",
      "source": [
        "import numpy as np\n",
        "\n",
        "cat_features=np.stack([df['MSSubClass'],df['MSZoning'],df['Street'],df['LotShape']],1)\n",
        "\n",
        "cat_features"
      ],
      "metadata": {
        "colab": {
          "base_uri": "https://localhost:8080/"
        },
        "id": "6JlWXq_uMGar",
        "outputId": "38e10825-19a1-4a1b-cfd5-0904c693b874"
      },
      "execution_count": 12,
      "outputs": [
        {
          "output_type": "execute_result",
          "data": {
            "text/plain": [
              "array([[5, 3, 1, 3],\n",
              "       [0, 3, 1, 3],\n",
              "       [5, 3, 1, 0],\n",
              "       ...,\n",
              "       [6, 3, 1, 3],\n",
              "       [0, 3, 1, 3],\n",
              "       [0, 3, 1, 3]])"
            ]
          },
          "metadata": {},
          "execution_count": 12
        }
      ]
    },
    {
      "cell_type": "code",
      "source": [
        "import torch\n",
        "cat_features=torch.tensor(cat_features,dtype=torch.int64)\n",
        "cat_features"
      ],
      "metadata": {
        "colab": {
          "base_uri": "https://localhost:8080/"
        },
        "id": "4OPMcyYnMGdG",
        "outputId": "1e95fdf8-c879-4bf9-f319-b7298cbbee6a"
      },
      "execution_count": 13,
      "outputs": [
        {
          "output_type": "execute_result",
          "data": {
            "text/plain": [
              "tensor([[5, 3, 1, 3],\n",
              "        [0, 3, 1, 3],\n",
              "        [5, 3, 1, 0],\n",
              "        ...,\n",
              "        [6, 3, 1, 3],\n",
              "        [0, 3, 1, 3],\n",
              "        [0, 3, 1, 3]])"
            ]
          },
          "metadata": {},
          "execution_count": 13
        }
      ]
    },
    {
      "cell_type": "code",
      "source": [
        "cont_features=[]\n",
        "for i in df.columns:\n",
        "    if i in [\"MSSubClass\", \"MSZoning\", \"Street\", \"LotShape\",\"SalePrice\"]:\n",
        "        pass\n",
        "    else:\n",
        "        cont_features.append(i)"
      ],
      "metadata": {
        "id": "J4YR-JWMMGfs"
      },
      "execution_count": 14,
      "outputs": []
    },
    {
      "cell_type": "code",
      "source": [
        "cont_features\n",
        "\n"
      ],
      "metadata": {
        "colab": {
          "base_uri": "https://localhost:8080/"
        },
        "id": "A2ef3wNwMGjM",
        "outputId": "9b4a6262-dca6-4d91-c194-723e26fcf784"
      },
      "execution_count": 15,
      "outputs": [
        {
          "output_type": "execute_result",
          "data": {
            "text/plain": [
              "['LotFrontage', 'LotArea', '1stFlrSF', '2ndFlrSF', 'Total Years']"
            ]
          },
          "metadata": {},
          "execution_count": 15
        }
      ]
    },
    {
      "cell_type": "code",
      "source": [
        "cont_values=np.stack([df[i].values for i in cont_features],axis=1)\n",
        "cont_values=torch.tensor(cont_values,dtype=torch.float)\n",
        "cont_values\n"
      ],
      "metadata": {
        "colab": {
          "base_uri": "https://localhost:8080/"
        },
        "id": "nmYKyDQjM0XH",
        "outputId": "ce228679-7e53-4028-8b6a-121207b6e4c3"
      },
      "execution_count": 16,
      "outputs": [
        {
          "output_type": "execute_result",
          "data": {
            "text/plain": [
              "tensor([[   65.,  8450.,   856.,   854.,    19.],\n",
              "        [   80.,  9600.,  1262.,     0.,    46.],\n",
              "        [   68., 11250.,   920.,   866.,    21.],\n",
              "        ...,\n",
              "        [   66.,  9042.,  1188.,  1152.,    81.],\n",
              "        [   68.,  9717.,  1078.,     0.,    72.],\n",
              "        [   75.,  9937.,  1256.,     0.,    57.]])"
            ]
          },
          "metadata": {},
          "execution_count": 16
        }
      ]
    },
    {
      "cell_type": "code",
      "source": [
        "cont_values.dtype"
      ],
      "metadata": {
        "colab": {
          "base_uri": "https://localhost:8080/"
        },
        "id": "zZmwjH0dM0Zp",
        "outputId": "dfe9e127-83f3-4fda-dfdf-0f075735cafa"
      },
      "execution_count": 17,
      "outputs": [
        {
          "output_type": "execute_result",
          "data": {
            "text/plain": [
              "torch.float32"
            ]
          },
          "metadata": {},
          "execution_count": 17
        }
      ]
    },
    {
      "cell_type": "code",
      "source": [
        "y=torch.tensor(df['SalePrice'].values,dtype=torch.float).reshape(-1,1)\n",
        "y"
      ],
      "metadata": {
        "colab": {
          "base_uri": "https://localhost:8080/"
        },
        "id": "DonoWxDnM0cL",
        "outputId": "8412772e-8a05-4194-c4c0-ba56a280781d"
      },
      "execution_count": 18,
      "outputs": [
        {
          "output_type": "execute_result",
          "data": {
            "text/plain": [
              "tensor([[208500.],\n",
              "        [181500.],\n",
              "        [223500.],\n",
              "        ...,\n",
              "        [266500.],\n",
              "        [142125.],\n",
              "        [147500.]])"
            ]
          },
          "metadata": {},
          "execution_count": 18
        }
      ]
    },
    {
      "cell_type": "code",
      "source": [
        "df.info()\n"
      ],
      "metadata": {
        "colab": {
          "base_uri": "https://localhost:8080/"
        },
        "id": "I2ylhRBTM0em",
        "outputId": "f998ed39-ec7c-45e7-df83-0779307e55c8"
      },
      "execution_count": 19,
      "outputs": [
        {
          "output_type": "stream",
          "name": "stdout",
          "text": [
            "<class 'pandas.core.frame.DataFrame'>\n",
            "Int64Index: 1201 entries, 0 to 1459\n",
            "Data columns (total 10 columns):\n",
            " #   Column       Non-Null Count  Dtype  \n",
            "---  ------       --------------  -----  \n",
            " 0   MSSubClass   1201 non-null   int64  \n",
            " 1   MSZoning     1201 non-null   int64  \n",
            " 2   LotFrontage  1201 non-null   float64\n",
            " 3   LotArea      1201 non-null   int64  \n",
            " 4   Street       1201 non-null   int64  \n",
            " 5   LotShape     1201 non-null   int64  \n",
            " 6   1stFlrSF     1201 non-null   int64  \n",
            " 7   2ndFlrSF     1201 non-null   int64  \n",
            " 8   SalePrice    1201 non-null   int64  \n",
            " 9   Total Years  1201 non-null   int64  \n",
            "dtypes: float64(1), int64(9)\n",
            "memory usage: 103.2 KB\n"
          ]
        }
      ]
    },
    {
      "cell_type": "code",
      "source": [
        "cat_features.shape,cont_values.shape,y.shape\n"
      ],
      "metadata": {
        "colab": {
          "base_uri": "https://localhost:8080/"
        },
        "id": "SL-lOLmOM0hQ",
        "outputId": "1babbe60-2876-4fa2-8562-e5d45e2af6fb"
      },
      "execution_count": 20,
      "outputs": [
        {
          "output_type": "execute_result",
          "data": {
            "text/plain": [
              "(torch.Size([1201, 4]), torch.Size([1201, 5]), torch.Size([1201, 1]))"
            ]
          },
          "metadata": {},
          "execution_count": 20
        }
      ]
    },
    {
      "cell_type": "code",
      "source": [
        "#len(df['MSSubClass'].unique())\n"
      ],
      "metadata": {
        "id": "GNE2DY0bNTLQ"
      },
      "execution_count": 21,
      "outputs": []
    },
    {
      "cell_type": "code",
      "source": [
        "cat_dims=[len(df[col].unique()) for col in [\"MSSubClass\", \"MSZoning\", \"Street\", \"LotShape\"]]\n"
      ],
      "metadata": {
        "id": "ZLNO3xTzNTN5"
      },
      "execution_count": 22,
      "outputs": []
    },
    {
      "cell_type": "code",
      "source": [
        "cat_dims\n"
      ],
      "metadata": {
        "colab": {
          "base_uri": "https://localhost:8080/"
        },
        "id": "z-3UPJZuNTQO",
        "outputId": "703ce029-2155-4f6a-b922-7bbd3c89f584"
      },
      "execution_count": 23,
      "outputs": [
        {
          "output_type": "execute_result",
          "data": {
            "text/plain": [
              "[15, 5, 2, 4]"
            ]
          },
          "metadata": {},
          "execution_count": 23
        }
      ]
    },
    {
      "cell_type": "code",
      "source": [
        "embedding_dim= [(x, min(50, (x + 1) // 2)) for x in cat_dims]\n"
      ],
      "metadata": {
        "id": "_hrN7lG-NTS8"
      },
      "execution_count": 24,
      "outputs": []
    },
    {
      "cell_type": "code",
      "source": [
        "embedding_dim\n"
      ],
      "metadata": {
        "colab": {
          "base_uri": "https://localhost:8080/"
        },
        "id": "EshS7G4rNTWe",
        "outputId": "2f55e442-d30b-4963-83cf-14a6daa51d03"
      },
      "execution_count": 25,
      "outputs": [
        {
          "output_type": "execute_result",
          "data": {
            "text/plain": [
              "[(15, 8), (5, 3), (2, 1), (4, 2)]"
            ]
          },
          "metadata": {},
          "execution_count": 25
        }
      ]
    },
    {
      "cell_type": "code",
      "source": [
        "import torch\n",
        "import torch.nn as nn\n",
        "import torch.nn.functional as F\n",
        "embed_representation=nn.ModuleList([nn.Embedding(inp,out) for inp,out in embedding_dim])\n",
        "embed_representation"
      ],
      "metadata": {
        "colab": {
          "base_uri": "https://localhost:8080/"
        },
        "id": "QZtWKgRCNtxk",
        "outputId": "68ab1cd1-8db8-431b-c514-a9845ece3149"
      },
      "execution_count": 26,
      "outputs": [
        {
          "output_type": "execute_result",
          "data": {
            "text/plain": [
              "ModuleList(\n",
              "  (0): Embedding(15, 8)\n",
              "  (1): Embedding(5, 3)\n",
              "  (2): Embedding(2, 1)\n",
              "  (3): Embedding(4, 2)\n",
              ")"
            ]
          },
          "metadata": {},
          "execution_count": 26
        }
      ]
    },
    {
      "cell_type": "code",
      "source": [
        "cat_features\n"
      ],
      "metadata": {
        "colab": {
          "base_uri": "https://localhost:8080/"
        },
        "id": "Wh4rCEuUNtzy",
        "outputId": "e6737c12-a3de-41ac-9d2d-af8de8651d3c"
      },
      "execution_count": 27,
      "outputs": [
        {
          "output_type": "execute_result",
          "data": {
            "text/plain": [
              "tensor([[5, 3, 1, 3],\n",
              "        [0, 3, 1, 3],\n",
              "        [5, 3, 1, 0],\n",
              "        ...,\n",
              "        [6, 3, 1, 3],\n",
              "        [0, 3, 1, 3],\n",
              "        [0, 3, 1, 3]])"
            ]
          },
          "metadata": {},
          "execution_count": 27
        }
      ]
    },
    {
      "cell_type": "code",
      "source": [
        "cat_featuresz=cat_features[:4]\n",
        "cat_featuresz\n"
      ],
      "metadata": {
        "colab": {
          "base_uri": "https://localhost:8080/"
        },
        "id": "skPSdNp7Nt3M",
        "outputId": "f4c5ee3f-ccd4-4ecc-dc48-54de8dd2d1d9"
      },
      "execution_count": 28,
      "outputs": [
        {
          "output_type": "execute_result",
          "data": {
            "text/plain": [
              "tensor([[5, 3, 1, 3],\n",
              "        [0, 3, 1, 3],\n",
              "        [5, 3, 1, 0],\n",
              "        [6, 3, 1, 0]])"
            ]
          },
          "metadata": {},
          "execution_count": 28
        }
      ]
    },
    {
      "cell_type": "code",
      "source": [
        "pd.set_option('display.max_rows', 500)\n",
        "embedding_val=[]\n",
        "for i,e in enumerate(embed_representation):\n",
        "    embedding_val.append(e(cat_features[:,i]))"
      ],
      "metadata": {
        "id": "oyy7kSdVM0k2"
      },
      "execution_count": 29,
      "outputs": []
    },
    {
      "cell_type": "code",
      "source": [
        "embedding_val\n"
      ],
      "metadata": {
        "colab": {
          "base_uri": "https://localhost:8080/"
        },
        "id": "O9O5rNOlOHon",
        "outputId": "0f8f5a87-dfac-49c0-d762-00b6b0cb3c37"
      },
      "execution_count": 30,
      "outputs": [
        {
          "output_type": "execute_result",
          "data": {
            "text/plain": [
              "[tensor([[ 2.0348, -0.7992, -0.3435,  ...,  0.8668, -0.6235,  2.2714],\n",
              "         [ 1.0691,  0.3761,  1.3241,  ..., -0.3192,  0.7823,  0.9625],\n",
              "         [ 2.0348, -0.7992, -0.3435,  ...,  0.8668, -0.6235,  2.2714],\n",
              "         ...,\n",
              "         [ 1.7069,  0.0973, -0.1508,  ...,  0.0422,  0.9257, -0.5103],\n",
              "         [ 1.0691,  0.3761,  1.3241,  ..., -0.3192,  0.7823,  0.9625],\n",
              "         [ 1.0691,  0.3761,  1.3241,  ..., -0.3192,  0.7823,  0.9625]],\n",
              "        grad_fn=<EmbeddingBackward0>), tensor([[1.2190, 0.3669, 0.0186],\n",
              "         [1.2190, 0.3669, 0.0186],\n",
              "         [1.2190, 0.3669, 0.0186],\n",
              "         ...,\n",
              "         [1.2190, 0.3669, 0.0186],\n",
              "         [1.2190, 0.3669, 0.0186],\n",
              "         [1.2190, 0.3669, 0.0186]], grad_fn=<EmbeddingBackward0>), tensor([[-0.2375],\n",
              "         [-0.2375],\n",
              "         [-0.2375],\n",
              "         ...,\n",
              "         [-0.2375],\n",
              "         [-0.2375],\n",
              "         [-0.2375]], grad_fn=<EmbeddingBackward0>), tensor([[ 2.4923, -1.0080],\n",
              "         [ 2.4923, -1.0080],\n",
              "         [ 0.6454, -0.3709],\n",
              "         ...,\n",
              "         [ 2.4923, -1.0080],\n",
              "         [ 2.4923, -1.0080],\n",
              "         [ 2.4923, -1.0080]], grad_fn=<EmbeddingBackward0>)]"
            ]
          },
          "metadata": {},
          "execution_count": 30
        }
      ]
    },
    {
      "cell_type": "code",
      "source": [
        "z = torch.cat(embedding_val, 1)\n",
        "z"
      ],
      "metadata": {
        "colab": {
          "base_uri": "https://localhost:8080/"
        },
        "id": "CGnbKGAoOHrK",
        "outputId": "c9538920-64ca-4f25-fac6-ba5897e360bd"
      },
      "execution_count": 31,
      "outputs": [
        {
          "output_type": "execute_result",
          "data": {
            "text/plain": [
              "tensor([[ 2.0348, -0.7992, -0.3435,  ..., -0.2375,  2.4923, -1.0080],\n",
              "        [ 1.0691,  0.3761,  1.3241,  ..., -0.2375,  2.4923, -1.0080],\n",
              "        [ 2.0348, -0.7992, -0.3435,  ..., -0.2375,  0.6454, -0.3709],\n",
              "        ...,\n",
              "        [ 1.7069,  0.0973, -0.1508,  ..., -0.2375,  2.4923, -1.0080],\n",
              "        [ 1.0691,  0.3761,  1.3241,  ..., -0.2375,  2.4923, -1.0080],\n",
              "        [ 1.0691,  0.3761,  1.3241,  ..., -0.2375,  2.4923, -1.0080]],\n",
              "       grad_fn=<CatBackward0>)"
            ]
          },
          "metadata": {},
          "execution_count": 31
        }
      ]
    },
    {
      "cell_type": "code",
      "source": [
        "droput=nn.Dropout(.4)"
      ],
      "metadata": {
        "id": "kf1s_5LaOHum"
      },
      "execution_count": 32,
      "outputs": []
    },
    {
      "cell_type": "code",
      "source": [
        "\n",
        "final_embed=droput(z)\n",
        "final_embed\n",
        "\n"
      ],
      "metadata": {
        "colab": {
          "base_uri": "https://localhost:8080/"
        },
        "id": "J4ZVA_CqOH9S",
        "outputId": "8262d380-a0cb-492e-e99a-c73b380dea9f"
      },
      "execution_count": 33,
      "outputs": [
        {
          "output_type": "execute_result",
          "data": {
            "text/plain": [
              "tensor([[ 0.0000, -1.3319, -0.0000,  ..., -0.3959,  0.0000, -0.0000],\n",
              "        [ 1.7819,  0.6268,  0.0000,  ..., -0.3959,  4.1538, -1.6801],\n",
              "        [ 3.3913, -0.0000, -0.5725,  ..., -0.3959,  1.0756, -0.6182],\n",
              "        ...,\n",
              "        [ 2.8449,  0.1621, -0.2513,  ..., -0.3959,  4.1538, -0.0000],\n",
              "        [ 0.0000,  0.6268,  0.0000,  ..., -0.0000,  4.1538, -1.6801],\n",
              "        [ 0.0000,  0.0000,  0.0000,  ..., -0.3959,  4.1538, -0.0000]],\n",
              "       grad_fn=<MulBackward0>)"
            ]
          },
          "metadata": {},
          "execution_count": 33
        }
      ]
    },
    {
      "cell_type": "code",
      "source": [
        "import torch\n",
        "import torch.nn as nn\n",
        "import torch.nn.functional as F\n",
        "class FeedForwardNN(nn.Module):\n",
        "\n",
        "    def __init__(self, embedding_dim, n_cont, out_sz, layers, p=0.5):\n",
        "        super().__init__()\n",
        "        self.embeds = nn.ModuleList([nn.Embedding(inp,out) for inp,out in embedding_dim])\n",
        "        self.emb_drop = nn.Dropout(p)\n",
        "        self.bn_cont = nn.BatchNorm1d(n_cont)\n",
        "        \n",
        "        layerlist = []\n",
        "        n_emb = sum((out for inp,out in embedding_dim))\n",
        "        n_in = n_emb + n_cont\n",
        "        \n",
        "        for i in layers:\n",
        "            layerlist.append(nn.Linear(n_in,i)) \n",
        "            layerlist.append(nn.ReLU(inplace=True))\n",
        "            layerlist.append(nn.BatchNorm1d(i))\n",
        "            layerlist.append(nn.Dropout(p))\n",
        "            n_in = i\n",
        "        layerlist.append(nn.Linear(layers[-1],out_sz))\n",
        "            \n",
        "        self.layers = nn.Sequential(*layerlist)\n",
        "    \n",
        "    def forward(self, x_cat, x_cont):\n",
        "        embeddings = []\n",
        "        for i,e in enumerate(self.embeds):\n",
        "            embeddings.append(e(x_cat[:,i]))\n",
        "        x = torch.cat(embeddings, 1)\n",
        "        x = self.emb_drop(x)\n",
        "        \n",
        "        x_cont = self.bn_cont(x_cont)\n",
        "        x = torch.cat([x, x_cont], 1)\n",
        "        x = self.layers(x)\n",
        "        return x"
      ],
      "metadata": {
        "id": "G19Bau36Oepj"
      },
      "execution_count": 48,
      "outputs": []
    },
    {
      "cell_type": "code",
      "source": [
        "len(cont_features)\n"
      ],
      "metadata": {
        "colab": {
          "base_uri": "https://localhost:8080/"
        },
        "id": "tS6ZB3-wOesV",
        "outputId": "778d4d80-45b6-4235-aefb-e7762ed9b685"
      },
      "execution_count": 49,
      "outputs": [
        {
          "output_type": "execute_result",
          "data": {
            "text/plain": [
              "5"
            ]
          },
          "metadata": {},
          "execution_count": 49
        }
      ]
    },
    {
      "cell_type": "code",
      "source": [
        "torch.manual_seed(100)\n",
        "model=FeedForwardNN(embedding_dim,len(cont_features),1,[100,50],p=0.4)"
      ],
      "metadata": {
        "id": "I3WvioilOeuL"
      },
      "execution_count": 50,
      "outputs": []
    },
    {
      "cell_type": "code",
      "source": [
        "\n",
        "model"
      ],
      "metadata": {
        "colab": {
          "base_uri": "https://localhost:8080/"
        },
        "id": "3_OQ5nyZOexj",
        "outputId": "6ba67812-92a5-4fb9-9c61-75caf7ad3957"
      },
      "execution_count": 51,
      "outputs": [
        {
          "output_type": "execute_result",
          "data": {
            "text/plain": [
              "FeedForwardNN(\n",
              "  (embeds): ModuleList(\n",
              "    (0): Embedding(15, 8)\n",
              "    (1): Embedding(5, 3)\n",
              "    (2): Embedding(2, 1)\n",
              "    (3): Embedding(4, 2)\n",
              "  )\n",
              "  (emb_drop): Dropout(p=0.4, inplace=False)\n",
              "  (bn_cont): BatchNorm1d(5, eps=1e-05, momentum=0.1, affine=True, track_running_stats=True)\n",
              "  (layers): Sequential(\n",
              "    (0): Linear(in_features=19, out_features=100, bias=True)\n",
              "    (1): ReLU(inplace=True)\n",
              "    (2): BatchNorm1d(100, eps=1e-05, momentum=0.1, affine=True, track_running_stats=True)\n",
              "    (3): Dropout(p=0.4, inplace=False)\n",
              "    (4): Linear(in_features=100, out_features=50, bias=True)\n",
              "    (5): ReLU(inplace=True)\n",
              "    (6): BatchNorm1d(50, eps=1e-05, momentum=0.1, affine=True, track_running_stats=True)\n",
              "    (7): Dropout(p=0.4, inplace=False)\n",
              "    (8): Linear(in_features=50, out_features=1, bias=True)\n",
              "  )\n",
              ")"
            ]
          },
          "metadata": {},
          "execution_count": 51
        }
      ]
    },
    {
      "cell_type": "code",
      "source": [
        "loss_function=nn.MSELoss()\n",
        "optimizer=torch.optim.Adam(model.parameters(),lr=0.01)"
      ],
      "metadata": {
        "id": "VFVPGdEpO1_w"
      },
      "execution_count": 52,
      "outputs": []
    },
    {
      "cell_type": "code",
      "source": [
        "\n",
        "df.shape"
      ],
      "metadata": {
        "colab": {
          "base_uri": "https://localhost:8080/"
        },
        "id": "8nd0XgoBO2CW",
        "outputId": "3e9413a2-1b5f-49a4-c69d-552d3d7a67bc"
      },
      "execution_count": 53,
      "outputs": [
        {
          "output_type": "execute_result",
          "data": {
            "text/plain": [
              "(1201, 10)"
            ]
          },
          "metadata": {},
          "execution_count": 53
        }
      ]
    },
    {
      "cell_type": "code",
      "source": [],
      "metadata": {
        "id": "k2epTuDOO2Ft"
      },
      "execution_count": null,
      "outputs": []
    },
    {
      "cell_type": "code",
      "source": [
        "cont_values.shape\n"
      ],
      "metadata": {
        "colab": {
          "base_uri": "https://localhost:8080/"
        },
        "id": "9TyrwZV-O2Sd",
        "outputId": "489eb161-a437-43e7-87ec-369aef78bf83"
      },
      "execution_count": 54,
      "outputs": [
        {
          "output_type": "execute_result",
          "data": {
            "text/plain": [
              "torch.Size([1201, 5])"
            ]
          },
          "metadata": {},
          "execution_count": 54
        }
      ]
    },
    {
      "cell_type": "code",
      "source": [
        "batch_size=1200\n",
        "test_size=int(batch_size*0.15)\n",
        "train_categorical=cat_features[:batch_size-test_size]\n",
        "test_categorical=cat_features[batch_size-test_size:batch_size]\n",
        "train_cont=cont_values[:batch_size-test_size]\n",
        "test_cont=cont_values[batch_size-test_size:batch_size]\n",
        "y_train=y[:batch_size-test_size]\n",
        "y_test=y[batch_size-test_size:batch_size]\n"
      ],
      "metadata": {
        "id": "Rexg7QLtO2Ut"
      },
      "execution_count": 55,
      "outputs": []
    },
    {
      "cell_type": "code",
      "source": [
        "test_categorical"
      ],
      "metadata": {
        "id": "E4g7c76MJukt"
      },
      "execution_count": null,
      "outputs": []
    },
    {
      "cell_type": "code",
      "source": [
        "len(train_categorical),len(test_categorical),len(train_cont),len(test_cont),len(y_train),len(y_test)"
      ],
      "metadata": {
        "colab": {
          "base_uri": "https://localhost:8080/"
        },
        "id": "9jqOrEaJO2XW",
        "outputId": "d778621a-6806-4805-94ff-900dab781869"
      },
      "execution_count": 56,
      "outputs": [
        {
          "output_type": "execute_result",
          "data": {
            "text/plain": [
              "(1020, 180, 1020, 180, 1020, 180)"
            ]
          },
          "metadata": {},
          "execution_count": 56
        }
      ]
    },
    {
      "cell_type": "code",
      "source": [
        "epochs=5200\n",
        "final_losses=[]\n",
        "for i in range(epochs):\n",
        "    i=i+1\n",
        "    y_pred=model(train_categorical,train_cont)\n",
        "    loss=torch.sqrt(loss_function(y_pred,y_train)) ### RMSE\n",
        "    final_losses.append(loss)\n",
        "    if i%10==1:\n",
        "        print(\"Epoch number: {} and the loss : {}\".format(i,loss.item()))\n",
        "    optimizer.zero_grad()\n",
        "    loss.backward()\n",
        "    optimizer.step()"
      ],
      "metadata": {
        "id": "_o0swkT6O2a8",
        "colab": {
          "base_uri": "https://localhost:8080/"
        },
        "outputId": "f2a3492b-980c-40e4-8a55-05ad8d33bbe5"
      },
      "execution_count": 57,
      "outputs": [
        {
          "output_type": "stream",
          "name": "stdout",
          "text": [
            "Epoch number: 1 and the loss : 200496.75\n",
            "Epoch number: 11 and the loss : 200493.46875\n",
            "Epoch number: 21 and the loss : 200489.140625\n",
            "Epoch number: 31 and the loss : 200482.640625\n",
            "Epoch number: 41 and the loss : 200473.25\n",
            "Epoch number: 51 and the loss : 200461.375\n",
            "Epoch number: 61 and the loss : 200446.4375\n",
            "Epoch number: 71 and the loss : 200429.421875\n",
            "Epoch number: 81 and the loss : 200407.953125\n",
            "Epoch number: 91 and the loss : 200383.421875\n",
            "Epoch number: 101 and the loss : 200355.21875\n",
            "Epoch number: 111 and the loss : 200322.0625\n",
            "Epoch number: 121 and the loss : 200291.46875\n",
            "Epoch number: 131 and the loss : 200252.109375\n",
            "Epoch number: 141 and the loss : 200206.59375\n",
            "Epoch number: 151 and the loss : 200162.046875\n",
            "Epoch number: 161 and the loss : 200112.09375\n",
            "Epoch number: 171 and the loss : 200058.890625\n",
            "Epoch number: 181 and the loss : 200006.34375\n",
            "Epoch number: 191 and the loss : 199946.953125\n",
            "Epoch number: 201 and the loss : 199881.359375\n",
            "Epoch number: 211 and the loss : 199815.265625\n",
            "Epoch number: 221 and the loss : 199737.546875\n",
            "Epoch number: 231 and the loss : 199669.8125\n",
            "Epoch number: 241 and the loss : 199589.40625\n",
            "Epoch number: 251 and the loss : 199507.203125\n",
            "Epoch number: 261 and the loss : 199410.203125\n",
            "Epoch number: 271 and the loss : 199325.40625\n",
            "Epoch number: 281 and the loss : 199243.921875\n",
            "Epoch number: 291 and the loss : 199138.265625\n",
            "Epoch number: 301 and the loss : 199027.140625\n",
            "Epoch number: 311 and the loss : 198929.921875\n",
            "Epoch number: 321 and the loss : 198843.875\n",
            "Epoch number: 331 and the loss : 198695.046875\n",
            "Epoch number: 341 and the loss : 198600.390625\n",
            "Epoch number: 351 and the loss : 198498.6875\n",
            "Epoch number: 361 and the loss : 198389.21875\n",
            "Epoch number: 371 and the loss : 198243.703125\n",
            "Epoch number: 381 and the loss : 198106.875\n",
            "Epoch number: 391 and the loss : 198017.1875\n",
            "Epoch number: 401 and the loss : 197884.671875\n",
            "Epoch number: 411 and the loss : 197731.328125\n",
            "Epoch number: 421 and the loss : 197597.109375\n",
            "Epoch number: 431 and the loss : 197417.609375\n",
            "Epoch number: 441 and the loss : 197282.5625\n",
            "Epoch number: 451 and the loss : 197169.390625\n",
            "Epoch number: 461 and the loss : 196962.0\n",
            "Epoch number: 471 and the loss : 196879.25\n",
            "Epoch number: 481 and the loss : 196708.1875\n",
            "Epoch number: 491 and the loss : 196499.375\n",
            "Epoch number: 501 and the loss : 196436.546875\n",
            "Epoch number: 511 and the loss : 196207.265625\n",
            "Epoch number: 521 and the loss : 196050.0625\n",
            "Epoch number: 531 and the loss : 195859.546875\n",
            "Epoch number: 541 and the loss : 195674.96875\n",
            "Epoch number: 551 and the loss : 195478.828125\n",
            "Epoch number: 561 and the loss : 195289.515625\n",
            "Epoch number: 571 and the loss : 195080.78125\n",
            "Epoch number: 581 and the loss : 194846.75\n",
            "Epoch number: 591 and the loss : 194692.75\n",
            "Epoch number: 601 and the loss : 194523.390625\n",
            "Epoch number: 611 and the loss : 194286.9375\n",
            "Epoch number: 621 and the loss : 194118.0625\n",
            "Epoch number: 631 and the loss : 193834.296875\n",
            "Epoch number: 641 and the loss : 193677.359375\n",
            "Epoch number: 651 and the loss : 193476.1875\n",
            "Epoch number: 661 and the loss : 193219.578125\n",
            "Epoch number: 671 and the loss : 193061.09375\n",
            "Epoch number: 681 and the loss : 192775.21875\n",
            "Epoch number: 691 and the loss : 192491.796875\n",
            "Epoch number: 701 and the loss : 192298.21875\n",
            "Epoch number: 711 and the loss : 192202.921875\n",
            "Epoch number: 721 and the loss : 191962.25\n",
            "Epoch number: 731 and the loss : 191609.71875\n",
            "Epoch number: 741 and the loss : 191427.4375\n",
            "Epoch number: 751 and the loss : 191195.0\n",
            "Epoch number: 761 and the loss : 190984.5625\n",
            "Epoch number: 771 and the loss : 190710.703125\n",
            "Epoch number: 781 and the loss : 190466.453125\n",
            "Epoch number: 791 and the loss : 190289.828125\n",
            "Epoch number: 801 and the loss : 189875.96875\n",
            "Epoch number: 811 and the loss : 189751.4375\n",
            "Epoch number: 821 and the loss : 189656.375\n",
            "Epoch number: 831 and the loss : 189284.0\n",
            "Epoch number: 841 and the loss : 188937.046875\n",
            "Epoch number: 851 and the loss : 188845.03125\n",
            "Epoch number: 861 and the loss : 188403.203125\n",
            "Epoch number: 871 and the loss : 188163.890625\n",
            "Epoch number: 881 and the loss : 187894.515625\n",
            "Epoch number: 891 and the loss : 187463.09375\n",
            "Epoch number: 901 and the loss : 187457.671875\n",
            "Epoch number: 911 and the loss : 187228.46875\n",
            "Epoch number: 921 and the loss : 186801.921875\n",
            "Epoch number: 931 and the loss : 186395.671875\n",
            "Epoch number: 941 and the loss : 186147.484375\n",
            "Epoch number: 951 and the loss : 185969.765625\n",
            "Epoch number: 961 and the loss : 185532.703125\n",
            "Epoch number: 971 and the loss : 185334.1875\n",
            "Epoch number: 981 and the loss : 185110.03125\n",
            "Epoch number: 991 and the loss : 184817.4375\n",
            "Epoch number: 1001 and the loss : 184308.203125\n",
            "Epoch number: 1011 and the loss : 184012.671875\n",
            "Epoch number: 1021 and the loss : 183811.140625\n",
            "Epoch number: 1031 and the loss : 183364.96875\n",
            "Epoch number: 1041 and the loss : 183222.921875\n",
            "Epoch number: 1051 and the loss : 182912.3125\n",
            "Epoch number: 1061 and the loss : 182562.484375\n",
            "Epoch number: 1071 and the loss : 182291.859375\n",
            "Epoch number: 1081 and the loss : 181970.78125\n",
            "Epoch number: 1091 and the loss : 181463.421875\n",
            "Epoch number: 1101 and the loss : 181297.484375\n",
            "Epoch number: 1111 and the loss : 180768.28125\n",
            "Epoch number: 1121 and the loss : 180486.46875\n",
            "Epoch number: 1131 and the loss : 180388.921875\n",
            "Epoch number: 1141 and the loss : 179928.84375\n",
            "Epoch number: 1151 and the loss : 179510.9375\n",
            "Epoch number: 1161 and the loss : 179352.21875\n",
            "Epoch number: 1171 and the loss : 178923.328125\n",
            "Epoch number: 1181 and the loss : 178540.109375\n",
            "Epoch number: 1191 and the loss : 178106.703125\n",
            "Epoch number: 1201 and the loss : 178109.28125\n",
            "Epoch number: 1211 and the loss : 177472.90625\n",
            "Epoch number: 1221 and the loss : 177498.515625\n",
            "Epoch number: 1231 and the loss : 176557.390625\n",
            "Epoch number: 1241 and the loss : 176314.171875\n",
            "Epoch number: 1251 and the loss : 175539.96875\n",
            "Epoch number: 1261 and the loss : 175592.671875\n",
            "Epoch number: 1271 and the loss : 175245.171875\n",
            "Epoch number: 1281 and the loss : 174942.40625\n",
            "Epoch number: 1291 and the loss : 174465.078125\n",
            "Epoch number: 1301 and the loss : 174367.75\n",
            "Epoch number: 1311 and the loss : 173694.09375\n",
            "Epoch number: 1321 and the loss : 173098.46875\n",
            "Epoch number: 1331 and the loss : 173387.203125\n",
            "Epoch number: 1341 and the loss : 172602.921875\n",
            "Epoch number: 1351 and the loss : 172262.515625\n",
            "Epoch number: 1361 and the loss : 171966.125\n",
            "Epoch number: 1371 and the loss : 171828.84375\n",
            "Epoch number: 1381 and the loss : 171296.984375\n",
            "Epoch number: 1391 and the loss : 170374.984375\n",
            "Epoch number: 1401 and the loss : 170464.609375\n",
            "Epoch number: 1411 and the loss : 169679.828125\n",
            "Epoch number: 1421 and the loss : 169835.765625\n",
            "Epoch number: 1431 and the loss : 169448.28125\n",
            "Epoch number: 1441 and the loss : 168671.75\n",
            "Epoch number: 1451 and the loss : 168635.796875\n",
            "Epoch number: 1461 and the loss : 167978.171875\n",
            "Epoch number: 1471 and the loss : 167580.375\n",
            "Epoch number: 1481 and the loss : 167348.84375\n",
            "Epoch number: 1491 and the loss : 166530.96875\n",
            "Epoch number: 1501 and the loss : 166341.046875\n",
            "Epoch number: 1511 and the loss : 165599.296875\n",
            "Epoch number: 1521 and the loss : 165824.234375\n",
            "Epoch number: 1531 and the loss : 165277.796875\n",
            "Epoch number: 1541 and the loss : 164578.9375\n",
            "Epoch number: 1551 and the loss : 164521.125\n",
            "Epoch number: 1561 and the loss : 163749.796875\n",
            "Epoch number: 1571 and the loss : 163449.328125\n",
            "Epoch number: 1581 and the loss : 163051.8125\n",
            "Epoch number: 1591 and the loss : 162972.875\n",
            "Epoch number: 1601 and the loss : 162394.953125\n",
            "Epoch number: 1611 and the loss : 161685.59375\n",
            "Epoch number: 1621 and the loss : 160802.03125\n",
            "Epoch number: 1631 and the loss : 160815.15625\n",
            "Epoch number: 1641 and the loss : 160653.84375\n",
            "Epoch number: 1651 and the loss : 160175.28125\n",
            "Epoch number: 1661 and the loss : 160120.609375\n",
            "Epoch number: 1671 and the loss : 159055.046875\n",
            "Epoch number: 1681 and the loss : 158389.390625\n",
            "Epoch number: 1691 and the loss : 158314.640625\n",
            "Epoch number: 1701 and the loss : 157676.421875\n",
            "Epoch number: 1711 and the loss : 157381.953125\n",
            "Epoch number: 1721 and the loss : 157151.6875\n",
            "Epoch number: 1731 and the loss : 156695.53125\n",
            "Epoch number: 1741 and the loss : 156321.03125\n",
            "Epoch number: 1751 and the loss : 156182.390625\n",
            "Epoch number: 1761 and the loss : 154698.140625\n",
            "Epoch number: 1771 and the loss : 154342.546875\n",
            "Epoch number: 1781 and the loss : 154065.046875\n",
            "Epoch number: 1791 and the loss : 153763.859375\n",
            "Epoch number: 1801 and the loss : 153184.09375\n",
            "Epoch number: 1811 and the loss : 152875.28125\n",
            "Epoch number: 1821 and the loss : 152331.140625\n",
            "Epoch number: 1831 and the loss : 152427.71875\n",
            "Epoch number: 1841 and the loss : 151610.671875\n",
            "Epoch number: 1851 and the loss : 150724.359375\n",
            "Epoch number: 1861 and the loss : 150839.8125\n",
            "Epoch number: 1871 and the loss : 150065.53125\n",
            "Epoch number: 1881 and the loss : 149289.609375\n",
            "Epoch number: 1891 and the loss : 148433.703125\n",
            "Epoch number: 1901 and the loss : 148603.96875\n",
            "Epoch number: 1911 and the loss : 148893.140625\n",
            "Epoch number: 1921 and the loss : 147758.984375\n",
            "Epoch number: 1931 and the loss : 147351.359375\n",
            "Epoch number: 1941 and the loss : 146654.765625\n",
            "Epoch number: 1951 and the loss : 146586.40625\n",
            "Epoch number: 1961 and the loss : 146043.96875\n",
            "Epoch number: 1971 and the loss : 145578.265625\n",
            "Epoch number: 1981 and the loss : 145700.984375\n",
            "Epoch number: 1991 and the loss : 144523.921875\n",
            "Epoch number: 2001 and the loss : 144164.84375\n",
            "Epoch number: 2011 and the loss : 143023.203125\n",
            "Epoch number: 2021 and the loss : 142962.5\n",
            "Epoch number: 2031 and the loss : 142476.578125\n",
            "Epoch number: 2041 and the loss : 142115.21875\n",
            "Epoch number: 2051 and the loss : 141069.546875\n",
            "Epoch number: 2061 and the loss : 140984.265625\n",
            "Epoch number: 2071 and the loss : 141045.796875\n",
            "Epoch number: 2081 and the loss : 139739.21875\n",
            "Epoch number: 2091 and the loss : 139798.328125\n",
            "Epoch number: 2101 and the loss : 139467.46875\n",
            "Epoch number: 2111 and the loss : 138697.1875\n",
            "Epoch number: 2121 and the loss : 137774.296875\n",
            "Epoch number: 2131 and the loss : 137950.96875\n",
            "Epoch number: 2141 and the loss : 137178.0\n",
            "Epoch number: 2151 and the loss : 136615.734375\n",
            "Epoch number: 2161 and the loss : 136369.75\n",
            "Epoch number: 2171 and the loss : 136506.296875\n",
            "Epoch number: 2181 and the loss : 135948.84375\n",
            "Epoch number: 2191 and the loss : 134856.9375\n",
            "Epoch number: 2201 and the loss : 134261.71875\n",
            "Epoch number: 2211 and the loss : 133635.265625\n",
            "Epoch number: 2221 and the loss : 132795.96875\n",
            "Epoch number: 2231 and the loss : 132611.6875\n",
            "Epoch number: 2241 and the loss : 132248.21875\n",
            "Epoch number: 2251 and the loss : 131614.46875\n",
            "Epoch number: 2261 and the loss : 130186.59375\n",
            "Epoch number: 2271 and the loss : 131253.703125\n",
            "Epoch number: 2281 and the loss : 130295.6484375\n",
            "Epoch number: 2291 and the loss : 129526.1328125\n",
            "Epoch number: 2301 and the loss : 128940.046875\n",
            "Epoch number: 2311 and the loss : 128886.796875\n",
            "Epoch number: 2321 and the loss : 128320.640625\n",
            "Epoch number: 2331 and the loss : 128629.46875\n",
            "Epoch number: 2341 and the loss : 128257.4921875\n",
            "Epoch number: 2351 and the loss : 126327.8671875\n",
            "Epoch number: 2361 and the loss : 126279.5546875\n",
            "Epoch number: 2371 and the loss : 125740.390625\n",
            "Epoch number: 2381 and the loss : 124825.890625\n",
            "Epoch number: 2391 and the loss : 124947.4140625\n",
            "Epoch number: 2401 and the loss : 124248.9921875\n",
            "Epoch number: 2411 and the loss : 123330.7578125\n",
            "Epoch number: 2421 and the loss : 123182.7265625\n",
            "Epoch number: 2431 and the loss : 122469.546875\n",
            "Epoch number: 2441 and the loss : 122501.046875\n",
            "Epoch number: 2451 and the loss : 121300.1484375\n",
            "Epoch number: 2461 and the loss : 120410.9453125\n",
            "Epoch number: 2471 and the loss : 120745.484375\n",
            "Epoch number: 2481 and the loss : 120456.765625\n",
            "Epoch number: 2491 and the loss : 120680.1484375\n",
            "Epoch number: 2501 and the loss : 119756.1171875\n",
            "Epoch number: 2511 and the loss : 118644.796875\n",
            "Epoch number: 2521 and the loss : 117695.4921875\n",
            "Epoch number: 2531 and the loss : 118211.3671875\n",
            "Epoch number: 2541 and the loss : 117352.6328125\n",
            "Epoch number: 2551 and the loss : 117006.453125\n",
            "Epoch number: 2561 and the loss : 116546.34375\n",
            "Epoch number: 2571 and the loss : 115732.125\n",
            "Epoch number: 2581 and the loss : 116013.8359375\n",
            "Epoch number: 2591 and the loss : 115509.4140625\n",
            "Epoch number: 2601 and the loss : 114440.8515625\n",
            "Epoch number: 2611 and the loss : 114344.640625\n",
            "Epoch number: 2621 and the loss : 114734.5859375\n",
            "Epoch number: 2631 and the loss : 112601.0234375\n",
            "Epoch number: 2641 and the loss : 112289.2109375\n",
            "Epoch number: 2651 and the loss : 112132.0078125\n",
            "Epoch number: 2661 and the loss : 111421.3984375\n",
            "Epoch number: 2671 and the loss : 110993.2421875\n",
            "Epoch number: 2681 and the loss : 110125.2109375\n",
            "Epoch number: 2691 and the loss : 109501.640625\n",
            "Epoch number: 2701 and the loss : 109728.3515625\n",
            "Epoch number: 2711 and the loss : 109176.5546875\n",
            "Epoch number: 2721 and the loss : 108809.4609375\n",
            "Epoch number: 2731 and the loss : 108513.875\n",
            "Epoch number: 2741 and the loss : 107079.90625\n",
            "Epoch number: 2751 and the loss : 106025.7734375\n",
            "Epoch number: 2761 and the loss : 106154.1953125\n",
            "Epoch number: 2771 and the loss : 106741.015625\n",
            "Epoch number: 2781 and the loss : 105308.9609375\n",
            "Epoch number: 2791 and the loss : 104599.3828125\n",
            "Epoch number: 2801 and the loss : 104820.90625\n",
            "Epoch number: 2811 and the loss : 104055.5\n",
            "Epoch number: 2821 and the loss : 102709.4921875\n",
            "Epoch number: 2831 and the loss : 102706.703125\n",
            "Epoch number: 2841 and the loss : 102395.84375\n",
            "Epoch number: 2851 and the loss : 101372.625\n",
            "Epoch number: 2861 and the loss : 101579.1328125\n",
            "Epoch number: 2871 and the loss : 100449.578125\n",
            "Epoch number: 2881 and the loss : 100935.328125\n",
            "Epoch number: 2891 and the loss : 100483.8203125\n",
            "Epoch number: 2901 and the loss : 98581.8203125\n",
            "Epoch number: 2911 and the loss : 98086.546875\n",
            "Epoch number: 2921 and the loss : 98058.2265625\n",
            "Epoch number: 2931 and the loss : 98922.5625\n",
            "Epoch number: 2941 and the loss : 96987.8828125\n",
            "Epoch number: 2951 and the loss : 97301.578125\n",
            "Epoch number: 2961 and the loss : 98563.125\n",
            "Epoch number: 2971 and the loss : 95203.0078125\n",
            "Epoch number: 2981 and the loss : 95275.625\n",
            "Epoch number: 2991 and the loss : 94305.7421875\n",
            "Epoch number: 3001 and the loss : 93628.796875\n",
            "Epoch number: 3011 and the loss : 94318.78125\n",
            "Epoch number: 3021 and the loss : 92895.1171875\n",
            "Epoch number: 3031 and the loss : 92569.1171875\n",
            "Epoch number: 3041 and the loss : 92800.6015625\n",
            "Epoch number: 3051 and the loss : 91439.5546875\n",
            "Epoch number: 3061 and the loss : 91966.203125\n",
            "Epoch number: 3071 and the loss : 91108.15625\n",
            "Epoch number: 3081 and the loss : 90983.34375\n",
            "Epoch number: 3091 and the loss : 89844.6484375\n",
            "Epoch number: 3101 and the loss : 89181.078125\n",
            "Epoch number: 3111 and the loss : 89246.6875\n",
            "Epoch number: 3121 and the loss : 92068.8359375\n",
            "Epoch number: 3131 and the loss : 88256.921875\n",
            "Epoch number: 3141 and the loss : 87721.90625\n",
            "Epoch number: 3151 and the loss : 87561.8671875\n",
            "Epoch number: 3161 and the loss : 86254.0625\n",
            "Epoch number: 3171 and the loss : 86792.3515625\n",
            "Epoch number: 3181 and the loss : 85900.65625\n",
            "Epoch number: 3191 and the loss : 84997.5078125\n",
            "Epoch number: 3201 and the loss : 84643.96875\n",
            "Epoch number: 3211 and the loss : 84013.46875\n",
            "Epoch number: 3221 and the loss : 82928.2421875\n",
            "Epoch number: 3231 and the loss : 84008.078125\n",
            "Epoch number: 3241 and the loss : 82010.875\n",
            "Epoch number: 3251 and the loss : 81244.984375\n",
            "Epoch number: 3261 and the loss : 81524.4609375\n",
            "Epoch number: 3271 and the loss : 81917.3515625\n",
            "Epoch number: 3281 and the loss : 80919.59375\n",
            "Epoch number: 3291 and the loss : 80911.625\n",
            "Epoch number: 3301 and the loss : 79942.3125\n",
            "Epoch number: 3311 and the loss : 79157.859375\n",
            "Epoch number: 3321 and the loss : 82154.0234375\n",
            "Epoch number: 3331 and the loss : 78762.78125\n",
            "Epoch number: 3341 and the loss : 80046.765625\n",
            "Epoch number: 3351 and the loss : 76872.2421875\n",
            "Epoch number: 3361 and the loss : 76628.171875\n",
            "Epoch number: 3371 and the loss : 76053.8359375\n",
            "Epoch number: 3381 and the loss : 76421.4609375\n",
            "Epoch number: 3391 and the loss : 74524.15625\n",
            "Epoch number: 3401 and the loss : 77146.9375\n",
            "Epoch number: 3411 and the loss : 74737.125\n",
            "Epoch number: 3421 and the loss : 73833.96875\n",
            "Epoch number: 3431 and the loss : 73874.6640625\n",
            "Epoch number: 3441 and the loss : 72378.9921875\n",
            "Epoch number: 3451 and the loss : 73113.90625\n",
            "Epoch number: 3461 and the loss : 72847.515625\n",
            "Epoch number: 3471 and the loss : 71670.1640625\n",
            "Epoch number: 3481 and the loss : 71169.6875\n",
            "Epoch number: 3491 and the loss : 70884.9765625\n",
            "Epoch number: 3501 and the loss : 68973.671875\n",
            "Epoch number: 3511 and the loss : 69594.9609375\n",
            "Epoch number: 3521 and the loss : 69806.4453125\n",
            "Epoch number: 3531 and the loss : 68763.3984375\n",
            "Epoch number: 3541 and the loss : 68919.3125\n",
            "Epoch number: 3551 and the loss : 67995.1796875\n",
            "Epoch number: 3561 and the loss : 66713.8203125\n",
            "Epoch number: 3571 and the loss : 66702.1484375\n",
            "Epoch number: 3581 and the loss : 66584.2265625\n",
            "Epoch number: 3591 and the loss : 66921.3515625\n",
            "Epoch number: 3601 and the loss : 64624.55859375\n",
            "Epoch number: 3611 and the loss : 65471.31640625\n",
            "Epoch number: 3621 and the loss : 65386.99609375\n",
            "Epoch number: 3631 and the loss : 63354.40625\n",
            "Epoch number: 3641 and the loss : 64674.83203125\n",
            "Epoch number: 3651 and the loss : 62650.9765625\n",
            "Epoch number: 3661 and the loss : 63791.5546875\n",
            "Epoch number: 3671 and the loss : 61616.69921875\n",
            "Epoch number: 3681 and the loss : 61270.89453125\n",
            "Epoch number: 3691 and the loss : 60838.24609375\n",
            "Epoch number: 3701 and the loss : 60156.14453125\n",
            "Epoch number: 3711 and the loss : 61600.21875\n",
            "Epoch number: 3721 and the loss : 59727.72265625\n",
            "Epoch number: 3731 and the loss : 57630.1953125\n",
            "Epoch number: 3741 and the loss : 58320.91796875\n",
            "Epoch number: 3751 and the loss : 58949.59375\n",
            "Epoch number: 3761 and the loss : 58517.8125\n",
            "Epoch number: 3771 and the loss : 56684.8671875\n",
            "Epoch number: 3781 and the loss : 55821.46875\n",
            "Epoch number: 3791 and the loss : 56742.68359375\n",
            "Epoch number: 3801 and the loss : 55775.3515625\n",
            "Epoch number: 3811 and the loss : 55852.84375\n",
            "Epoch number: 3821 and the loss : 56733.61328125\n",
            "Epoch number: 3831 and the loss : 54461.71484375\n",
            "Epoch number: 3841 and the loss : 53445.90625\n",
            "Epoch number: 3851 and the loss : 54485.93359375\n",
            "Epoch number: 3861 and the loss : 54723.3203125\n",
            "Epoch number: 3871 and the loss : 51995.68359375\n",
            "Epoch number: 3881 and the loss : 51708.18359375\n",
            "Epoch number: 3891 and the loss : 50685.29296875\n",
            "Epoch number: 3901 and the loss : 54442.890625\n",
            "Epoch number: 3911 and the loss : 54234.37890625\n",
            "Epoch number: 3921 and the loss : 50899.13671875\n",
            "Epoch number: 3931 and the loss : 50544.78125\n",
            "Epoch number: 3941 and the loss : 50086.515625\n",
            "Epoch number: 3951 and the loss : 48563.08203125\n",
            "Epoch number: 3961 and the loss : 50633.75\n",
            "Epoch number: 3971 and the loss : 49074.8046875\n",
            "Epoch number: 3981 and the loss : 51830.63671875\n",
            "Epoch number: 3991 and the loss : 49361.3515625\n",
            "Epoch number: 4001 and the loss : 48666.0078125\n",
            "Epoch number: 4011 and the loss : 46632.37109375\n",
            "Epoch number: 4021 and the loss : 48382.73046875\n",
            "Epoch number: 4031 and the loss : 45228.72265625\n",
            "Epoch number: 4041 and the loss : 46499.53515625\n",
            "Epoch number: 4051 and the loss : 47469.421875\n",
            "Epoch number: 4061 and the loss : 45075.65234375\n",
            "Epoch number: 4071 and the loss : 46749.15625\n",
            "Epoch number: 4081 and the loss : 44173.359375\n",
            "Epoch number: 4091 and the loss : 45681.421875\n",
            "Epoch number: 4101 and the loss : 43552.55078125\n",
            "Epoch number: 4111 and the loss : 44260.9609375\n",
            "Epoch number: 4121 and the loss : 44433.4765625\n",
            "Epoch number: 4131 and the loss : 43765.890625\n",
            "Epoch number: 4141 and the loss : 44548.13671875\n",
            "Epoch number: 4151 and the loss : 42887.046875\n",
            "Epoch number: 4161 and the loss : 42755.49609375\n",
            "Epoch number: 4171 and the loss : 43128.21484375\n",
            "Epoch number: 4181 and the loss : 41710.28125\n",
            "Epoch number: 4191 and the loss : 42013.30078125\n",
            "Epoch number: 4201 and the loss : 42843.4453125\n",
            "Epoch number: 4211 and the loss : 40461.0625\n",
            "Epoch number: 4221 and the loss : 40434.33203125\n",
            "Epoch number: 4231 and the loss : 40796.4921875\n",
            "Epoch number: 4241 and the loss : 40626.20703125\n",
            "Epoch number: 4251 and the loss : 40387.9765625\n",
            "Epoch number: 4261 and the loss : 40735.9765625\n",
            "Epoch number: 4271 and the loss : 40454.90625\n",
            "Epoch number: 4281 and the loss : 42745.68359375\n",
            "Epoch number: 4291 and the loss : 39147.08984375\n",
            "Epoch number: 4301 and the loss : 40035.546875\n",
            "Epoch number: 4311 and the loss : 39425.8671875\n",
            "Epoch number: 4321 and the loss : 39948.2734375\n",
            "Epoch number: 4331 and the loss : 38419.49609375\n",
            "Epoch number: 4341 and the loss : 39439.21875\n",
            "Epoch number: 4351 and the loss : 41124.96484375\n",
            "Epoch number: 4361 and the loss : 39482.7421875\n",
            "Epoch number: 4371 and the loss : 37795.66796875\n",
            "Epoch number: 4381 and the loss : 38344.98046875\n",
            "Epoch number: 4391 and the loss : 35555.39453125\n",
            "Epoch number: 4401 and the loss : 37480.64453125\n",
            "Epoch number: 4411 and the loss : 37863.15234375\n",
            "Epoch number: 4421 and the loss : 38912.9921875\n",
            "Epoch number: 4431 and the loss : 38525.23828125\n",
            "Epoch number: 4441 and the loss : 37993.171875\n",
            "Epoch number: 4451 and the loss : 37710.0234375\n",
            "Epoch number: 4461 and the loss : 37299.95703125\n",
            "Epoch number: 4471 and the loss : 42366.125\n",
            "Epoch number: 4481 and the loss : 37396.74609375\n",
            "Epoch number: 4491 and the loss : 36676.90625\n",
            "Epoch number: 4501 and the loss : 38094.47265625\n",
            "Epoch number: 4511 and the loss : 37524.34765625\n",
            "Epoch number: 4521 and the loss : 37205.75390625\n",
            "Epoch number: 4531 and the loss : 36751.18359375\n",
            "Epoch number: 4541 and the loss : 34925.63671875\n",
            "Epoch number: 4551 and the loss : 34876.74609375\n",
            "Epoch number: 4561 and the loss : 36156.1953125\n",
            "Epoch number: 4571 and the loss : 38697.03125\n",
            "Epoch number: 4581 and the loss : 34936.69140625\n",
            "Epoch number: 4591 and the loss : 34497.43359375\n",
            "Epoch number: 4601 and the loss : 37170.6953125\n",
            "Epoch number: 4611 and the loss : 35329.15234375\n",
            "Epoch number: 4621 and the loss : 35478.19140625\n",
            "Epoch number: 4631 and the loss : 35465.95703125\n",
            "Epoch number: 4641 and the loss : 34853.65625\n",
            "Epoch number: 4651 and the loss : 35581.4453125\n",
            "Epoch number: 4661 and the loss : 34947.96484375\n",
            "Epoch number: 4671 and the loss : 36802.4296875\n",
            "Epoch number: 4681 and the loss : 36517.91796875\n",
            "Epoch number: 4691 and the loss : 38810.9921875\n",
            "Epoch number: 4701 and the loss : 34476.015625\n",
            "Epoch number: 4711 and the loss : 34080.41796875\n",
            "Epoch number: 4721 and the loss : 35690.89453125\n",
            "Epoch number: 4731 and the loss : 35683.3671875\n",
            "Epoch number: 4741 and the loss : 35947.91796875\n",
            "Epoch number: 4751 and the loss : 35087.46484375\n",
            "Epoch number: 4761 and the loss : 34864.87109375\n",
            "Epoch number: 4771 and the loss : 34998.71484375\n",
            "Epoch number: 4781 and the loss : 34101.82421875\n",
            "Epoch number: 4791 and the loss : 36033.3828125\n",
            "Epoch number: 4801 and the loss : 35358.27734375\n",
            "Epoch number: 4811 and the loss : 35473.8515625\n",
            "Epoch number: 4821 and the loss : 35190.5390625\n",
            "Epoch number: 4831 and the loss : 34472.8359375\n",
            "Epoch number: 4841 and the loss : 35038.30859375\n",
            "Epoch number: 4851 and the loss : 37065.49609375\n",
            "Epoch number: 4861 and the loss : 36284.58203125\n",
            "Epoch number: 4871 and the loss : 34943.1015625\n",
            "Epoch number: 4881 and the loss : 36367.29296875\n",
            "Epoch number: 4891 and the loss : 34185.890625\n",
            "Epoch number: 4901 and the loss : 35320.34375\n",
            "Epoch number: 4911 and the loss : 34073.19921875\n",
            "Epoch number: 4921 and the loss : 33898.4296875\n",
            "Epoch number: 4931 and the loss : 35985.33203125\n",
            "Epoch number: 4941 and the loss : 36592.94921875\n",
            "Epoch number: 4951 and the loss : 33485.23828125\n",
            "Epoch number: 4961 and the loss : 35015.70703125\n",
            "Epoch number: 4971 and the loss : 36074.58203125\n",
            "Epoch number: 4981 and the loss : 34902.6953125\n",
            "Epoch number: 4991 and the loss : 34041.90625\n",
            "Epoch number: 5001 and the loss : 33320.10546875\n",
            "Epoch number: 5011 and the loss : 33817.65625\n",
            "Epoch number: 5021 and the loss : 35278.40625\n",
            "Epoch number: 5031 and the loss : 34834.05078125\n",
            "Epoch number: 5041 and the loss : 33504.36328125\n",
            "Epoch number: 5051 and the loss : 34322.57421875\n",
            "Epoch number: 5061 and the loss : 35737.94921875\n",
            "Epoch number: 5071 and the loss : 34093.28125\n",
            "Epoch number: 5081 and the loss : 35156.1875\n",
            "Epoch number: 5091 and the loss : 36034.2421875\n",
            "Epoch number: 5101 and the loss : 35747.41015625\n",
            "Epoch number: 5111 and the loss : 35505.4453125\n",
            "Epoch number: 5121 and the loss : 34996.48828125\n",
            "Epoch number: 5131 and the loss : 36268.76171875\n",
            "Epoch number: 5141 and the loss : 34984.54296875\n",
            "Epoch number: 5151 and the loss : 35993.5625\n",
            "Epoch number: 5161 and the loss : 34194.65625\n",
            "Epoch number: 5171 and the loss : 34891.28515625\n",
            "Epoch number: 5181 and the loss : 35480.17578125\n",
            "Epoch number: 5191 and the loss : 34607.51171875\n"
          ]
        }
      ]
    },
    {
      "cell_type": "code",
      "source": [
        "import matplotlib.pyplot as plt\n",
        "%matplotlib inline\n",
        "with torch.no_grad():\n",
        "  plt.plot(range(epochs), final_losses)\n",
        "  plt.ylabel('RMSE Loss')\n",
        "  plt.xlabel('epoch')"
      ],
      "metadata": {
        "id": "dlXI1mgEPjl_",
        "colab": {
          "base_uri": "https://localhost:8080/",
          "height": 279
        },
        "outputId": "79d814f0-75a0-4129-c6d8-585d8bd48fde"
      },
      "execution_count": 58,
      "outputs": [
        {
          "output_type": "display_data",
          "data": {
            "text/plain": [
              "<Figure size 432x288 with 1 Axes>"
            ],
            "image/png": "[encoded data removed]"
          },
          "metadata": {
            "needs_background": "light"
          }
        }
      ]
    },
    {
      "cell_type": "code",
      "source": [
        "test_categorical"
      ],
      "metadata": {
        "colab": {
          "base_uri": "https://localhost:8080/"
        },
        "id": "6J4g4TLXIRWm",
        "outputId": "d78d728a-bf4c-46b6-f5d6-d7b6c56b81cd"
      },
      "execution_count": 59,
      "outputs": [
        {
          "output_type": "execute_result",
          "data": {
            "text/plain": [
              "tensor([[ 6,  2,  1,  3],\n",
              "        [ 6,  3,  1,  3],\n",
              "        [12,  3,  1,  3],\n",
              "        [ 5,  3,  1,  1],\n",
              "        [ 0,  3,  1,  3],\n",
              "        [ 0,  3,  1,  0],\n",
              "        [ 5,  3,  1,  3],\n",
              "        [ 0,  3,  1,  3],\n",
              "        [ 9,  3,  1,  3],\n",
              "        [ 0,  3,  1,  3],\n",
              "        [ 8,  3,  1,  3],\n",
              "        [ 5,  1,  1,  3],\n",
              "        [ 7,  4,  1,  3],\n",
              "        [ 0,  3,  1,  3],\n",
              "        [ 0,  3,  1,  3],\n",
              "        [ 0,  3,  1,  3],\n",
              "        [ 5,  3,  1,  3],\n",
              "        [ 4,  4,  1,  3],\n",
              "        [ 0,  3,  1,  0],\n",
              "        [ 1,  3,  1,  3],\n",
              "        [ 8,  3,  1,  0],\n",
              "        [ 0,  3,  1,  3],\n",
              "        [ 0,  3,  1,  3],\n",
              "        [ 6,  3,  1,  3],\n",
              "        [11,  2,  1,  3],\n",
              "        [12,  1,  1,  3],\n",
              "        [14,  4,  1,  0],\n",
              "        [ 0,  3,  1,  0],\n",
              "        [ 4,  3,  1,  3],\n",
              "        [ 8,  3,  1,  0],\n",
              "        [ 4,  3,  1,  3],\n",
              "        [10,  3,  1,  3],\n",
              "        [ 5,  3,  1,  3],\n",
              "        [ 4,  0,  1,  3],\n",
              "        [ 0,  3,  1,  0],\n",
              "        [ 0,  3,  1,  0],\n",
              "        [ 0,  3,  1,  0],\n",
              "        [10,  3,  1,  3],\n",
              "        [ 4,  3,  1,  3],\n",
              "        [ 4,  4,  1,  3],\n",
              "        [11,  3,  1,  0],\n",
              "        [ 5,  3,  1,  0],\n",
              "        [12,  4,  1,  3],\n",
              "        [ 6,  4,  1,  3],\n",
              "        [ 5,  3,  1,  3],\n",
              "        [ 0,  3,  1,  3],\n",
              "        [ 0,  3,  1,  3],\n",
              "        [ 0,  3,  1,  3],\n",
              "        [13,  4,  1,  3],\n",
              "        [ 5,  3,  1,  2],\n",
              "        [ 0,  3,  1,  3],\n",
              "        [ 5,  3,  1,  3],\n",
              "        [ 0,  3,  1,  3],\n",
              "        [12,  4,  1,  3],\n",
              "        [ 0,  3,  1,  0],\n",
              "        [11,  3,  1,  0],\n",
              "        [ 0,  3,  1,  3],\n",
              "        [ 0,  4,  1,  3],\n",
              "        [ 0,  3,  1,  3],\n",
              "        [ 0,  3,  1,  3],\n",
              "        [ 5,  3,  1,  0],\n",
              "        [ 0,  3,  1,  3],\n",
              "        [ 5,  3,  1,  3],\n",
              "        [ 0,  3,  1,  0],\n",
              "        [11,  1,  1,  3],\n",
              "        [ 0,  3,  1,  3],\n",
              "        [ 0,  3,  1,  3],\n",
              "        [ 5,  3,  1,  0],\n",
              "        [ 1,  3,  1,  3],\n",
              "        [ 0,  3,  1,  3],\n",
              "        [ 1,  4,  1,  3],\n",
              "        [ 1,  2,  1,  3],\n",
              "        [ 0,  3,  1,  3],\n",
              "        [ 4,  4,  1,  3],\n",
              "        [ 5,  3,  1,  0],\n",
              "        [ 0,  3,  1,  3],\n",
              "        [ 8,  3,  1,  0],\n",
              "        [ 0,  3,  1,  3],\n",
              "        [ 4,  4,  1,  3],\n",
              "        [12,  4,  1,  3],\n",
              "        [ 0,  3,  1,  3],\n",
              "        [10,  3,  1,  0],\n",
              "        [ 1,  4,  1,  0],\n",
              "        [ 5,  3,  1,  0],\n",
              "        [ 0,  3,  1,  0],\n",
              "        [ 0,  3,  1,  3],\n",
              "        [ 0,  3,  1,  3],\n",
              "        [ 4,  3,  1,  3],\n",
              "        [ 5,  3,  1,  0],\n",
              "        [ 1,  4,  1,  3],\n",
              "        [ 0,  3,  1,  0],\n",
              "        [ 6,  4,  1,  3],\n",
              "        [10,  3,  1,  3],\n",
              "        [ 5,  3,  1,  0],\n",
              "        [ 4,  4,  1,  3],\n",
              "        [ 4,  3,  1,  0],\n",
              "        [ 8,  3,  1,  0],\n",
              "        [ 0,  3,  1,  3],\n",
              "        [ 6,  3,  1,  3],\n",
              "        [ 0,  3,  1,  0],\n",
              "        [ 5,  3,  1,  0],\n",
              "        [12,  1,  1,  3],\n",
              "        [ 5,  3,  1,  0],\n",
              "        [12,  4,  1,  3],\n",
              "        [ 0,  3,  1,  1],\n",
              "        [ 4,  3,  1,  3],\n",
              "        [ 8,  3,  1,  3],\n",
              "        [ 5,  3,  1,  3],\n",
              "        [ 5,  1,  1,  3],\n",
              "        [ 0,  3,  1,  0],\n",
              "        [ 1,  3,  1,  3],\n",
              "        [ 4,  3,  1,  3],\n",
              "        [12,  4,  1,  3],\n",
              "        [ 8,  3,  1,  3],\n",
              "        [ 1,  3,  1,  3],\n",
              "        [ 6,  4,  1,  3],\n",
              "        [ 4,  3,  1,  3],\n",
              "        [ 4,  4,  1,  3],\n",
              "        [ 5,  3,  1,  0],\n",
              "        [ 4,  4,  1,  3],\n",
              "        [ 0,  3,  1,  0],\n",
              "        [ 4,  4,  1,  3],\n",
              "        [ 0,  3,  1,  3],\n",
              "        [10,  3,  1,  3],\n",
              "        [ 9,  3,  1,  3],\n",
              "        [14,  4,  1,  3],\n",
              "        [11,  3,  1,  3],\n",
              "        [ 5,  3,  1,  0],\n",
              "        [ 6,  4,  1,  3],\n",
              "        [ 4,  3,  1,  3],\n",
              "        [ 4,  3,  1,  3],\n",
              "        [ 4,  4,  1,  3],\n",
              "        [ 5,  3,  1,  0],\n",
              "        [ 0,  3,  1,  3],\n",
              "        [ 0,  3,  1,  0],\n",
              "        [ 4,  3,  1,  3],\n",
              "        [11,  4,  1,  0],\n",
              "        [ 9,  3,  1,  3],\n",
              "        [ 6,  4,  1,  3],\n",
              "        [ 5,  3,  1,  0],\n",
              "        [ 5,  3,  1,  3],\n",
              "        [ 4,  3,  1,  3],\n",
              "        [10,  3,  1,  3],\n",
              "        [ 0,  3,  1,  0],\n",
              "        [ 4,  3,  1,  3],\n",
              "        [11,  3,  1,  3],\n",
              "        [14,  4,  1,  3],\n",
              "        [ 0,  3,  1,  3],\n",
              "        [ 5,  3,  1,  3],\n",
              "        [11,  3,  1,  3],\n",
              "        [11,  4,  1,  3],\n",
              "        [ 0,  3,  1,  0],\n",
              "        [ 5,  3,  1,  0],\n",
              "        [ 4,  3,  1,  3],\n",
              "        [ 1,  4,  1,  3],\n",
              "        [ 5,  3,  1,  2],\n",
              "        [ 1,  3,  1,  3],\n",
              "        [ 5,  3,  1,  0],\n",
              "        [ 0,  3,  1,  3],\n",
              "        [ 0,  3,  1,  3],\n",
              "        [ 0,  3,  1,  3],\n",
              "        [ 0,  3,  1,  3],\n",
              "        [ 0,  4,  1,  3],\n",
              "        [ 5,  3,  1,  3],\n",
              "        [ 6,  3,  1,  0],\n",
              "        [ 5,  1,  1,  3],\n",
              "        [ 0,  3,  1,  3],\n",
              "        [ 9,  3,  1,  3],\n",
              "        [ 5,  3,  1,  3],\n",
              "        [ 4,  3,  1,  3],\n",
              "        [13,  4,  1,  3],\n",
              "        [10,  3,  1,  3],\n",
              "        [ 0,  3,  1,  3],\n",
              "        [13,  4,  1,  3],\n",
              "        [ 0,  3,  1,  3],\n",
              "        [ 0,  1,  1,  3],\n",
              "        [ 5,  3,  1,  3],\n",
              "        [ 0,  3,  1,  3],\n",
              "        [ 6,  3,  1,  3],\n",
              "        [ 0,  3,  1,  3]])"
            ]
          },
          "metadata": {},
          "execution_count": 59
        }
      ]
    },
    {
      "cell_type": "code",
      "source": [
        "y_pred=\"\"\n",
        "with torch.no_grad():\n",
        "    y_pred=model(test_categorical,test_cont)\n",
        "    loss=torch.sqrt(loss_function(y_pred,y_test))\n",
        "print('RMSE: {}'.format(loss))\n",
        "#print(test_categorical,test_cont)\n",
        "#print(test_categorical)"
      ],
      "metadata": {
        "id": "bnuL224-S7Zk",
        "colab": {
          "base_uri": "https://localhost:8080/"
        },
        "outputId": "85e3a402-2453-425c-cae4-7798df121cdf"
      },
      "execution_count": 61,
      "outputs": [
        {
          "output_type": "stream",
          "name": "stdout",
          "text": [
            "RMSE: 43717.0859375\n"
          ]
        }
      ]
    },
    {
      "cell_type": "code",
      "source": [
        "pca = test_categorical[-1]\n",
        "pco = test_cont[-1]\n",
        "pca = pca.resize_(2, 4)\n",
        "pco = pco.resize_(2, 5)\n",
        "\n"
      ],
      "metadata": {
        "id": "kCKh9zg16FAu"
      },
      "execution_count": 62,
      "outputs": []
    },
    {
      "cell_type": "code",
      "source": [
        "#u_t_c=torch.tensor([60,'RL','pave','Reg'],dtype=torch.str)"
      ],
      "metadata": {
        "id": "IifU1Q1bxRbZ"
      },
      "execution_count": null,
      "outputs": []
    },
    {
      "cell_type": "code",
      "source": [
        "#tc = [[0,  3,  1,  0]]\n",
        "#tco = [[9.6000e+01, 1.3132e+04, 8.9200e+02, 8.9200e+02, 1.0800e+02]]\n",
        "#import numpy as np\n",
        "\n",
        "\n",
        "#cat_features=np.stack(tc,)\n",
        "#cat_features\n",
        "\n",
        "#cont_features=np.stack(tco,)\n",
        "#cont_features\n",
        "\n",
        "#cat_features=torch.tensor(cat_features,dtype=torch.int64)\n",
        "#cat_features\n",
        "\n",
        "\n",
        "#cont_features=torch.tensor(cat_features,dtype=torch.int64)\n",
        "#cont_features\n",
        "\n",
        "#tc = torch.Tensor(tc)\n",
        "#tco = torch.Tensor(tco)\n",
        "#y_pred=\"\"\n",
        "\n",
        "\n",
        "#y_pred=model(cat_features,cont_features)\n",
        "\n",
        "\n",
        "#print(y_pred)\n",
        "    "
      ],
      "metadata": {
        "id": "CigzwRb4h3-i"
      },
      "execution_count": null,
      "outputs": []
    },
    {
      "cell_type": "code",
      "source": [
        "#y_test=y[batch_size-test_size:batch_size]\n",
        "\n",
        "data_verify=pd.DataFrame(y_test.tolist(),columns=[\"Test\"])\n",
        "\n",
        "\n",
        "# y_test\n",
        "\n"
      ],
      "metadata": {
        "id": "ur_mWcUiS9OL"
      },
      "execution_count": 63,
      "outputs": []
    },
    {
      "cell_type": "code",
      "source": [
        "data_predicted=pd.DataFrame(y_pred.tolist(),columns=[\"Prediction\"])\n"
      ],
      "metadata": {
        "id": "--ypYDYKS9Qz"
      },
      "execution_count": 64,
      "outputs": []
    },
    {
      "cell_type": "code",
      "source": [
        "# data_predicted\n"
      ],
      "metadata": {
        "id": "c6QlX437S9UP"
      },
      "execution_count": null,
      "outputs": []
    },
    {
      "cell_type": "code",
      "source": [
        "final_output=pd.concat([data_verify,data_predicted],axis=1)\n",
        "final_output['Difference']=final_output['Test']-final_output['Prediction']\n",
        "# final_output.head(25)"
      ],
      "metadata": {
        "id": "eDbIwbrxTQFN"
      },
      "execution_count": 65,
      "outputs": []
    },
    {
      "cell_type": "code",
      "source": [
        "torch.save(model,'HousePrice.pt')"
      ],
      "metadata": {
        "id": "84wxDCgxTVb5"
      },
      "execution_count": 66,
      "outputs": []
    },
    {
      "cell_type": "code",
      "source": [
        "torch.save(model.state_dict(),'HouseWeights.pt')\n"
      ],
      "metadata": {
        "id": "Z2sHQoi6TWwz"
      },
      "execution_count": 67,
      "outputs": []
    },
    {
      "cell_type": "code",
      "source": [
        "\n",
        "### Loading the saved Model\n",
        "embs_size=[(15, 8), (5, 3), (2, 1), (4, 2)]\n",
        "model1=FeedForwardNN(embs_size,5,1,[100,50],p=0.4)"
      ],
      "metadata": {
        "id": "CcSk7ZM1TWzd"
      },
      "execution_count": 68,
      "outputs": []
    },
    {
      "cell_type": "code",
      "source": [
        "model1.load_state_dict(torch.load('HouseWeights.pt'))\n",
        "ypredict = model1(pca,pco)\n",
        "print(ypredict)\n",
        "print(pca,pco)\n",
        "data_predicted=pd.DataFrame(ypredict.tolist(),columns=[\"Prediction\"])\n",
        "print(data_predicted)\n",
        "print(type(data_predicted))\n"
      ],
      "metadata": {
        "colab": {
          "base_uri": "https://localhost:8080/"
        },
        "id": "WcAMqXerTW27",
        "outputId": "c94bcfd3-4cfe-4f33-b20e-2548c0c52aff"
      },
      "execution_count": 69,
      "outputs": [
        {
          "output_type": "stream",
          "name": "stdout",
          "text": [
            "tensor([[ 84092.2734],\n",
            "        [255548.3438]], grad_fn=<AddmmBackward0>)\n",
            "tensor([[0, 3, 1, 3],\n",
            "        [0, 3, 1, 3]]) tensor([[  68., 9717., 1078.,    0.,   72.],\n",
            "        [  75., 9937., 1256.,    0.,   57.]])\n",
            "      Prediction\n",
            "0   84092.273438\n",
            "1  255548.343750\n",
            "<class 'pandas.core.frame.DataFrame'>\n"
          ]
        }
      ]
    },
    {
      "cell_type": "code",
      "source": [
        "model1.eval()\n"
      ],
      "metadata": {
        "colab": {
          "base_uri": "https://localhost:8080/"
        },
        "id": "VMzDZQa3TXL5",
        "outputId": "2ee36eee-514b-44c0-b107-18126c5ea7a3"
      },
      "execution_count": 70,
      "outputs": [
        {
          "output_type": "execute_result",
          "data": {
            "text/plain": [
              "FeedForwardNN(\n",
              "  (embeds): ModuleList(\n",
              "    (0): Embedding(15, 8)\n",
              "    (1): Embedding(5, 3)\n",
              "    (2): Embedding(2, 1)\n",
              "    (3): Embedding(4, 2)\n",
              "  )\n",
              "  (emb_drop): Dropout(p=0.4, inplace=False)\n",
              "  (bn_cont): BatchNorm1d(5, eps=1e-05, momentum=0.1, affine=True, track_running_stats=True)\n",
              "  (layers): Sequential(\n",
              "    (0): Linear(in_features=19, out_features=100, bias=True)\n",
              "    (1): ReLU(inplace=True)\n",
              "    (2): BatchNorm1d(100, eps=1e-05, momentum=0.1, affine=True, track_running_stats=True)\n",
              "    (3): Dropout(p=0.4, inplace=False)\n",
              "    (4): Linear(in_features=100, out_features=50, bias=True)\n",
              "    (5): ReLU(inplace=True)\n",
              "    (6): BatchNorm1d(50, eps=1e-05, momentum=0.1, affine=True, track_running_stats=True)\n",
              "    (7): Dropout(p=0.4, inplace=False)\n",
              "    (8): Linear(in_features=50, out_features=1, bias=True)\n",
              "  )\n",
              ")"
            ]
          },
          "metadata": {},
          "execution_count": 70
        }
      ]
    },
    {
      "cell_type": "code",
      "source": [
        "#import pickle"
      ],
      "metadata": {
        "id": "TPKwJwQb9y_L"
      },
      "execution_count": null,
      "outputs": []
    },
    {
      "cell_type": "code",
      "source": [],
      "metadata": {
        "id": "jc6EGLnx9zCp"
      },
      "execution_count": null,
      "outputs": []
    }
  ]
}